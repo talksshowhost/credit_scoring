{
 "cells": [
  {
   "cell_type": "markdown",
   "id": "76970a8a",
   "metadata": {},
   "source": [
    "# Data Description\n",
    "| Variable Name | Description | Type |\n",
    "|----------|----------|----------|\n",
    "| SeriousDlqin2yrs | Person experienced 90 days past due delinquency or worse   | Y/N |\n",
    "| RevolvingUtilizationOfUnsecuredLines | Total balance on credit cards and personal lines of credit except real estate and no installment debt like car loans divided by the sum of credit limits | percentage |\n",
    "| age | Age of borrower in years |\tinteger |\n",
    "| NumberOfTime30-59DaysPastDueNotWorse\t| Number of times borrower has been 30-59 days past due but no worse in the last 2 years\t| integer |\n",
    "| DebtRatio\t| Monthly debt payments, alimony, living costs divided by monthy gross income |\tpercentage |\n",
    "| MonthlyIncome\t| Monthly income\t| real |\n",
    "|NumberOfOpenCreditLinesAndLoans\t| Number of Open loans (installment like car loan or mortgage) and Lines of credit (e.g. credit cards)\t| integer |\n",
    "|NumberOfTimes90DaysLate\t| Number of times borrower has been 90 days or more past due\t| integer |\n",
    "|NumberRealEstateLoansOrLines\t| Number of mortgage and real estate loans including home equity lines of credit\t| integer |\n",
    "|NumberOfTime60-89DaysPastDueNotWorse\t| Number of times borrower has been 60-89 days past due but no worse in the last 2 years\t| integer |\n",
    "|NumberOfDependents\t| Number of dependents in family excluding themselves (spouse, children etc.)\t| integer |\n",
    "\n",
    "\n",
    "\n",
    "**Target: SeriousDlqin2yrs**"
   ]
  },
  {
   "cell_type": "markdown",
   "id": "9ee93341",
   "metadata": {},
   "source": [
    "# Exploratory Data Analysis"
   ]
  },
  {
   "cell_type": "code",
   "execution_count": null,
   "id": "5d544309",
   "metadata": {},
   "outputs": [],
   "source": [
    "import pandas as pd\n",
    "import numpy as np\n",
    "\n",
    "TRAINING = pd.read_csv('cs-training.csv')\n",
    "\n",
    "RANDOM_STATE = 42"
   ]
  },
  {
   "cell_type": "code",
   "execution_count": 2,
   "id": "63e06e8c",
   "metadata": {},
   "outputs": [
    {
     "data": {
      "text/html": [
       "<div>\n",
       "<style scoped>\n",
       "    .dataframe tbody tr th:only-of-type {\n",
       "        vertical-align: middle;\n",
       "    }\n",
       "\n",
       "    .dataframe tbody tr th {\n",
       "        vertical-align: top;\n",
       "    }\n",
       "\n",
       "    .dataframe thead th {\n",
       "        text-align: right;\n",
       "    }\n",
       "</style>\n",
       "<table border=\"1\" class=\"dataframe\">\n",
       "  <thead>\n",
       "    <tr style=\"text-align: right;\">\n",
       "      <th></th>\n",
       "      <th>Unnamed: 0</th>\n",
       "      <th>SeriousDlqin2yrs</th>\n",
       "      <th>RevolvingUtilizationOfUnsecuredLines</th>\n",
       "      <th>age</th>\n",
       "      <th>NumberOfTime30-59DaysPastDueNotWorse</th>\n",
       "      <th>DebtRatio</th>\n",
       "      <th>MonthlyIncome</th>\n",
       "      <th>NumberOfOpenCreditLinesAndLoans</th>\n",
       "      <th>NumberOfTimes90DaysLate</th>\n",
       "      <th>NumberRealEstateLoansOrLines</th>\n",
       "      <th>NumberOfTime60-89DaysPastDueNotWorse</th>\n",
       "      <th>NumberOfDependents</th>\n",
       "    </tr>\n",
       "  </thead>\n",
       "  <tbody>\n",
       "    <tr>\n",
       "      <th>0</th>\n",
       "      <td>1</td>\n",
       "      <td>1</td>\n",
       "      <td>0.766127</td>\n",
       "      <td>45</td>\n",
       "      <td>2</td>\n",
       "      <td>0.802982</td>\n",
       "      <td>9120.0</td>\n",
       "      <td>13</td>\n",
       "      <td>0</td>\n",
       "      <td>6</td>\n",
       "      <td>0</td>\n",
       "      <td>2.0</td>\n",
       "    </tr>\n",
       "    <tr>\n",
       "      <th>1</th>\n",
       "      <td>2</td>\n",
       "      <td>0</td>\n",
       "      <td>0.957151</td>\n",
       "      <td>40</td>\n",
       "      <td>0</td>\n",
       "      <td>0.121876</td>\n",
       "      <td>2600.0</td>\n",
       "      <td>4</td>\n",
       "      <td>0</td>\n",
       "      <td>0</td>\n",
       "      <td>0</td>\n",
       "      <td>1.0</td>\n",
       "    </tr>\n",
       "    <tr>\n",
       "      <th>2</th>\n",
       "      <td>3</td>\n",
       "      <td>0</td>\n",
       "      <td>0.658180</td>\n",
       "      <td>38</td>\n",
       "      <td>1</td>\n",
       "      <td>0.085113</td>\n",
       "      <td>3042.0</td>\n",
       "      <td>2</td>\n",
       "      <td>1</td>\n",
       "      <td>0</td>\n",
       "      <td>0</td>\n",
       "      <td>0.0</td>\n",
       "    </tr>\n",
       "  </tbody>\n",
       "</table>\n",
       "</div>"
      ],
      "text/plain": [
       "   Unnamed: 0  SeriousDlqin2yrs  RevolvingUtilizationOfUnsecuredLines  age  \\\n",
       "0           1                 1                              0.766127   45   \n",
       "1           2                 0                              0.957151   40   \n",
       "2           3                 0                              0.658180   38   \n",
       "\n",
       "   NumberOfTime30-59DaysPastDueNotWorse  DebtRatio  MonthlyIncome  \\\n",
       "0                                     2   0.802982         9120.0   \n",
       "1                                     0   0.121876         2600.0   \n",
       "2                                     1   0.085113         3042.0   \n",
       "\n",
       "   NumberOfOpenCreditLinesAndLoans  NumberOfTimes90DaysLate  \\\n",
       "0                               13                        0   \n",
       "1                                4                        0   \n",
       "2                                2                        1   \n",
       "\n",
       "   NumberRealEstateLoansOrLines  NumberOfTime60-89DaysPastDueNotWorse  \\\n",
       "0                             6                                     0   \n",
       "1                             0                                     0   \n",
       "2                             0                                     0   \n",
       "\n",
       "   NumberOfDependents  \n",
       "0                 2.0  \n",
       "1                 1.0  \n",
       "2                 0.0  "
      ]
     },
     "execution_count": 2,
     "metadata": {},
     "output_type": "execute_result"
    }
   ],
   "source": [
    "TRAINING.head(3)"
   ]
  },
  {
   "cell_type": "code",
   "execution_count": 3,
   "id": "3986fa02",
   "metadata": {},
   "outputs": [
    {
     "name": "stdout",
     "output_type": "stream",
     "text": [
      "<class 'pandas.core.frame.DataFrame'>\n",
      "RangeIndex: 150000 entries, 0 to 149999\n",
      "Data columns (total 12 columns):\n",
      " #   Column                                Non-Null Count   Dtype  \n",
      "---  ------                                --------------   -----  \n",
      " 0   Unnamed: 0                            150000 non-null  int64  \n",
      " 1   SeriousDlqin2yrs                      150000 non-null  int64  \n",
      " 2   RevolvingUtilizationOfUnsecuredLines  150000 non-null  float64\n",
      " 3   age                                   150000 non-null  int64  \n",
      " 4   NumberOfTime30-59DaysPastDueNotWorse  150000 non-null  int64  \n",
      " 5   DebtRatio                             150000 non-null  float64\n",
      " 6   MonthlyIncome                         120269 non-null  float64\n",
      " 7   NumberOfOpenCreditLinesAndLoans       150000 non-null  int64  \n",
      " 8   NumberOfTimes90DaysLate               150000 non-null  int64  \n",
      " 9   NumberRealEstateLoansOrLines          150000 non-null  int64  \n",
      " 10  NumberOfTime60-89DaysPastDueNotWorse  150000 non-null  int64  \n",
      " 11  NumberOfDependents                    146076 non-null  float64\n",
      "dtypes: float64(4), int64(8)\n",
      "memory usage: 13.7 MB\n"
     ]
    }
   ],
   "source": [
    "TRAINING.info()"
   ]
  },
  {
   "cell_type": "markdown",
   "id": "fcf72930",
   "metadata": {},
   "source": [
    "В признаках **MonthlyIncome** и **NumberOfDependents** есть много пропущенных значений. Заполним их дальше по ноутбуку."
   ]
  },
  {
   "cell_type": "code",
   "execution_count": 4,
   "id": "066223f6",
   "metadata": {},
   "outputs": [
    {
     "data": {
      "text/html": [
       "<div>\n",
       "<style scoped>\n",
       "    .dataframe tbody tr th:only-of-type {\n",
       "        vertical-align: middle;\n",
       "    }\n",
       "\n",
       "    .dataframe tbody tr th {\n",
       "        vertical-align: top;\n",
       "    }\n",
       "\n",
       "    .dataframe thead th {\n",
       "        text-align: right;\n",
       "    }\n",
       "</style>\n",
       "<table border=\"1\" class=\"dataframe\">\n",
       "  <thead>\n",
       "    <tr style=\"text-align: right;\">\n",
       "      <th></th>\n",
       "      <th>Unnamed: 0</th>\n",
       "      <th>SeriousDlqin2yrs</th>\n",
       "      <th>RevolvingUtilizationOfUnsecuredLines</th>\n",
       "      <th>age</th>\n",
       "      <th>NumberOfTime30-59DaysPastDueNotWorse</th>\n",
       "      <th>DebtRatio</th>\n",
       "      <th>MonthlyIncome</th>\n",
       "      <th>NumberOfOpenCreditLinesAndLoans</th>\n",
       "      <th>NumberOfTimes90DaysLate</th>\n",
       "      <th>NumberRealEstateLoansOrLines</th>\n",
       "      <th>NumberOfTime60-89DaysPastDueNotWorse</th>\n",
       "      <th>NumberOfDependents</th>\n",
       "    </tr>\n",
       "  </thead>\n",
       "  <tbody>\n",
       "    <tr>\n",
       "      <th>count</th>\n",
       "      <td>150000.000000</td>\n",
       "      <td>150000.000000</td>\n",
       "      <td>150000.000000</td>\n",
       "      <td>150000.000000</td>\n",
       "      <td>150000.000000</td>\n",
       "      <td>150000.000000</td>\n",
       "      <td>1.202690e+05</td>\n",
       "      <td>150000.000000</td>\n",
       "      <td>150000.000000</td>\n",
       "      <td>150000.000000</td>\n",
       "      <td>150000.000000</td>\n",
       "      <td>146076.000000</td>\n",
       "    </tr>\n",
       "    <tr>\n",
       "      <th>mean</th>\n",
       "      <td>75000.500000</td>\n",
       "      <td>0.066840</td>\n",
       "      <td>6.048438</td>\n",
       "      <td>52.295207</td>\n",
       "      <td>0.421033</td>\n",
       "      <td>353.005076</td>\n",
       "      <td>6.670221e+03</td>\n",
       "      <td>8.452760</td>\n",
       "      <td>0.265973</td>\n",
       "      <td>1.018240</td>\n",
       "      <td>0.240387</td>\n",
       "      <td>0.757222</td>\n",
       "    </tr>\n",
       "    <tr>\n",
       "      <th>std</th>\n",
       "      <td>43301.414527</td>\n",
       "      <td>0.249746</td>\n",
       "      <td>249.755371</td>\n",
       "      <td>14.771866</td>\n",
       "      <td>4.192781</td>\n",
       "      <td>2037.818523</td>\n",
       "      <td>1.438467e+04</td>\n",
       "      <td>5.145951</td>\n",
       "      <td>4.169304</td>\n",
       "      <td>1.129771</td>\n",
       "      <td>4.155179</td>\n",
       "      <td>1.115086</td>\n",
       "    </tr>\n",
       "    <tr>\n",
       "      <th>min</th>\n",
       "      <td>1.000000</td>\n",
       "      <td>0.000000</td>\n",
       "      <td>0.000000</td>\n",
       "      <td>0.000000</td>\n",
       "      <td>0.000000</td>\n",
       "      <td>0.000000</td>\n",
       "      <td>0.000000e+00</td>\n",
       "      <td>0.000000</td>\n",
       "      <td>0.000000</td>\n",
       "      <td>0.000000</td>\n",
       "      <td>0.000000</td>\n",
       "      <td>0.000000</td>\n",
       "    </tr>\n",
       "    <tr>\n",
       "      <th>25%</th>\n",
       "      <td>37500.750000</td>\n",
       "      <td>0.000000</td>\n",
       "      <td>0.029867</td>\n",
       "      <td>41.000000</td>\n",
       "      <td>0.000000</td>\n",
       "      <td>0.175074</td>\n",
       "      <td>3.400000e+03</td>\n",
       "      <td>5.000000</td>\n",
       "      <td>0.000000</td>\n",
       "      <td>0.000000</td>\n",
       "      <td>0.000000</td>\n",
       "      <td>0.000000</td>\n",
       "    </tr>\n",
       "    <tr>\n",
       "      <th>50%</th>\n",
       "      <td>75000.500000</td>\n",
       "      <td>0.000000</td>\n",
       "      <td>0.154181</td>\n",
       "      <td>52.000000</td>\n",
       "      <td>0.000000</td>\n",
       "      <td>0.366508</td>\n",
       "      <td>5.400000e+03</td>\n",
       "      <td>8.000000</td>\n",
       "      <td>0.000000</td>\n",
       "      <td>1.000000</td>\n",
       "      <td>0.000000</td>\n",
       "      <td>0.000000</td>\n",
       "    </tr>\n",
       "    <tr>\n",
       "      <th>75%</th>\n",
       "      <td>112500.250000</td>\n",
       "      <td>0.000000</td>\n",
       "      <td>0.559046</td>\n",
       "      <td>63.000000</td>\n",
       "      <td>0.000000</td>\n",
       "      <td>0.868254</td>\n",
       "      <td>8.249000e+03</td>\n",
       "      <td>11.000000</td>\n",
       "      <td>0.000000</td>\n",
       "      <td>2.000000</td>\n",
       "      <td>0.000000</td>\n",
       "      <td>1.000000</td>\n",
       "    </tr>\n",
       "    <tr>\n",
       "      <th>max</th>\n",
       "      <td>150000.000000</td>\n",
       "      <td>1.000000</td>\n",
       "      <td>50708.000000</td>\n",
       "      <td>109.000000</td>\n",
       "      <td>98.000000</td>\n",
       "      <td>329664.000000</td>\n",
       "      <td>3.008750e+06</td>\n",
       "      <td>58.000000</td>\n",
       "      <td>98.000000</td>\n",
       "      <td>54.000000</td>\n",
       "      <td>98.000000</td>\n",
       "      <td>20.000000</td>\n",
       "    </tr>\n",
       "  </tbody>\n",
       "</table>\n",
       "</div>"
      ],
      "text/plain": [
       "          Unnamed: 0  SeriousDlqin2yrs  RevolvingUtilizationOfUnsecuredLines  \\\n",
       "count  150000.000000     150000.000000                         150000.000000   \n",
       "mean    75000.500000          0.066840                              6.048438   \n",
       "std     43301.414527          0.249746                            249.755371   \n",
       "min         1.000000          0.000000                              0.000000   \n",
       "25%     37500.750000          0.000000                              0.029867   \n",
       "50%     75000.500000          0.000000                              0.154181   \n",
       "75%    112500.250000          0.000000                              0.559046   \n",
       "max    150000.000000          1.000000                          50708.000000   \n",
       "\n",
       "                 age  NumberOfTime30-59DaysPastDueNotWorse      DebtRatio  \\\n",
       "count  150000.000000                         150000.000000  150000.000000   \n",
       "mean       52.295207                              0.421033     353.005076   \n",
       "std        14.771866                              4.192781    2037.818523   \n",
       "min         0.000000                              0.000000       0.000000   \n",
       "25%        41.000000                              0.000000       0.175074   \n",
       "50%        52.000000                              0.000000       0.366508   \n",
       "75%        63.000000                              0.000000       0.868254   \n",
       "max       109.000000                             98.000000  329664.000000   \n",
       "\n",
       "       MonthlyIncome  NumberOfOpenCreditLinesAndLoans  \\\n",
       "count   1.202690e+05                    150000.000000   \n",
       "mean    6.670221e+03                         8.452760   \n",
       "std     1.438467e+04                         5.145951   \n",
       "min     0.000000e+00                         0.000000   \n",
       "25%     3.400000e+03                         5.000000   \n",
       "50%     5.400000e+03                         8.000000   \n",
       "75%     8.249000e+03                        11.000000   \n",
       "max     3.008750e+06                        58.000000   \n",
       "\n",
       "       NumberOfTimes90DaysLate  NumberRealEstateLoansOrLines  \\\n",
       "count            150000.000000                 150000.000000   \n",
       "mean                  0.265973                      1.018240   \n",
       "std                   4.169304                      1.129771   \n",
       "min                   0.000000                      0.000000   \n",
       "25%                   0.000000                      0.000000   \n",
       "50%                   0.000000                      1.000000   \n",
       "75%                   0.000000                      2.000000   \n",
       "max                  98.000000                     54.000000   \n",
       "\n",
       "       NumberOfTime60-89DaysPastDueNotWorse  NumberOfDependents  \n",
       "count                         150000.000000       146076.000000  \n",
       "mean                               0.240387            0.757222  \n",
       "std                                4.155179            1.115086  \n",
       "min                                0.000000            0.000000  \n",
       "25%                                0.000000            0.000000  \n",
       "50%                                0.000000            0.000000  \n",
       "75%                                0.000000            1.000000  \n",
       "max                               98.000000           20.000000  "
      ]
     },
     "execution_count": 4,
     "metadata": {},
     "output_type": "execute_result"
    }
   ],
   "source": [
    "TRAINING.describe()"
   ]
  },
  {
   "cell_type": "markdown",
   "id": "030ed80a",
   "metadata": {},
   "source": [
    "В данных также присутствуют признаки, которые могут давать схожую информацию: **NumberOfTime30-59DaysPastDueNotWorse**, **NumberOfTimes90DaysLate** и **NumberOfTime60-89DaysPastDueNotWorse** или **NumberOfOpenCreditLinesAndLoans** и **NumberRealEstateLoansOrLines**. Посмотрим на их корреляцию по ходу анализа данных."
   ]
  },
  {
   "cell_type": "markdown",
   "id": "a534b2be",
   "metadata": {},
   "source": [
    "Также, если мы выделим возраст, который выходит за пределы 18-100 лет, то сможем заметить, что в данных есть явный выброс с возрастом 0 лет, исправим его в зависимости от распределения значений этого признака. Возраст больше 100 лет возможен, так что не будем засчитывать такие значения за выбросы."
   ]
  },
  {
   "cell_type": "code",
   "execution_count": 5,
   "id": "6cbcef78",
   "metadata": {},
   "outputs": [
    {
     "data": {
      "text/html": [
       "<div>\n",
       "<style scoped>\n",
       "    .dataframe tbody tr th:only-of-type {\n",
       "        vertical-align: middle;\n",
       "    }\n",
       "\n",
       "    .dataframe tbody tr th {\n",
       "        vertical-align: top;\n",
       "    }\n",
       "\n",
       "    .dataframe thead th {\n",
       "        text-align: right;\n",
       "    }\n",
       "</style>\n",
       "<table border=\"1\" class=\"dataframe\">\n",
       "  <thead>\n",
       "    <tr style=\"text-align: right;\">\n",
       "      <th></th>\n",
       "      <th>Unnamed: 0</th>\n",
       "      <th>SeriousDlqin2yrs</th>\n",
       "      <th>RevolvingUtilizationOfUnsecuredLines</th>\n",
       "      <th>age</th>\n",
       "      <th>NumberOfTime30-59DaysPastDueNotWorse</th>\n",
       "      <th>DebtRatio</th>\n",
       "      <th>MonthlyIncome</th>\n",
       "      <th>NumberOfOpenCreditLinesAndLoans</th>\n",
       "      <th>NumberOfTimes90DaysLate</th>\n",
       "      <th>NumberRealEstateLoansOrLines</th>\n",
       "      <th>NumberOfTime60-89DaysPastDueNotWorse</th>\n",
       "      <th>NumberOfDependents</th>\n",
       "    </tr>\n",
       "  </thead>\n",
       "  <tbody>\n",
       "    <tr>\n",
       "      <th>65695</th>\n",
       "      <td>65696</td>\n",
       "      <td>0</td>\n",
       "      <td>1.0</td>\n",
       "      <td>0</td>\n",
       "      <td>1</td>\n",
       "      <td>0.436927</td>\n",
       "      <td>6000.0</td>\n",
       "      <td>6</td>\n",
       "      <td>0</td>\n",
       "      <td>2</td>\n",
       "      <td>0</td>\n",
       "      <td>2.0</td>\n",
       "    </tr>\n",
       "  </tbody>\n",
       "</table>\n",
       "</div>"
      ],
      "text/plain": [
       "       Unnamed: 0  SeriousDlqin2yrs  RevolvingUtilizationOfUnsecuredLines  \\\n",
       "65695       65696                 0                                   1.0   \n",
       "\n",
       "       age  NumberOfTime30-59DaysPastDueNotWorse  DebtRatio  MonthlyIncome  \\\n",
       "65695    0                                     1   0.436927         6000.0   \n",
       "\n",
       "       NumberOfOpenCreditLinesAndLoans  NumberOfTimes90DaysLate  \\\n",
       "65695                                6                        0   \n",
       "\n",
       "       NumberRealEstateLoansOrLines  NumberOfTime60-89DaysPastDueNotWorse  \\\n",
       "65695                             2                                     0   \n",
       "\n",
       "       NumberOfDependents  \n",
       "65695                 2.0  "
      ]
     },
     "execution_count": 5,
     "metadata": {},
     "output_type": "execute_result"
    }
   ],
   "source": [
    "TRAINING.loc[TRAINING['age'] < 18]"
   ]
  },
  {
   "cell_type": "code",
   "execution_count": 6,
   "id": "de1726d4",
   "metadata": {},
   "outputs": [
    {
     "data": {
      "text/html": [
       "<div>\n",
       "<style scoped>\n",
       "    .dataframe tbody tr th:only-of-type {\n",
       "        vertical-align: middle;\n",
       "    }\n",
       "\n",
       "    .dataframe tbody tr th {\n",
       "        vertical-align: top;\n",
       "    }\n",
       "\n",
       "    .dataframe thead th {\n",
       "        text-align: right;\n",
       "    }\n",
       "</style>\n",
       "<table border=\"1\" class=\"dataframe\">\n",
       "  <thead>\n",
       "    <tr style=\"text-align: right;\">\n",
       "      <th></th>\n",
       "      <th>Unnamed: 0</th>\n",
       "      <th>SeriousDlqin2yrs</th>\n",
       "      <th>RevolvingUtilizationOfUnsecuredLines</th>\n",
       "      <th>age</th>\n",
       "      <th>NumberOfTime30-59DaysPastDueNotWorse</th>\n",
       "      <th>DebtRatio</th>\n",
       "      <th>MonthlyIncome</th>\n",
       "      <th>NumberOfOpenCreditLinesAndLoans</th>\n",
       "      <th>NumberOfTimes90DaysLate</th>\n",
       "      <th>NumberRealEstateLoansOrLines</th>\n",
       "      <th>NumberOfTime60-89DaysPastDueNotWorse</th>\n",
       "      <th>NumberOfDependents</th>\n",
       "    </tr>\n",
       "  </thead>\n",
       "  <tbody>\n",
       "    <tr>\n",
       "      <th>7763</th>\n",
       "      <td>7764</td>\n",
       "      <td>0</td>\n",
       "      <td>0.069167</td>\n",
       "      <td>101</td>\n",
       "      <td>0</td>\n",
       "      <td>50.000000</td>\n",
       "      <td>NaN</td>\n",
       "      <td>2</td>\n",
       "      <td>0</td>\n",
       "      <td>0</td>\n",
       "      <td>0</td>\n",
       "      <td>0.0</td>\n",
       "    </tr>\n",
       "    <tr>\n",
       "      <th>19884</th>\n",
       "      <td>19885</td>\n",
       "      <td>0</td>\n",
       "      <td>1.000000</td>\n",
       "      <td>103</td>\n",
       "      <td>0</td>\n",
       "      <td>0.000000</td>\n",
       "      <td>1600.0</td>\n",
       "      <td>3</td>\n",
       "      <td>0</td>\n",
       "      <td>0</td>\n",
       "      <td>0</td>\n",
       "      <td>0.0</td>\n",
       "    </tr>\n",
       "    <tr>\n",
       "      <th>25561</th>\n",
       "      <td>25562</td>\n",
       "      <td>0</td>\n",
       "      <td>0.009866</td>\n",
       "      <td>102</td>\n",
       "      <td>0</td>\n",
       "      <td>0.002424</td>\n",
       "      <td>3300.0</td>\n",
       "      <td>3</td>\n",
       "      <td>0</td>\n",
       "      <td>0</td>\n",
       "      <td>0</td>\n",
       "      <td>0.0</td>\n",
       "    </tr>\n",
       "    <tr>\n",
       "      <th>40007</th>\n",
       "      <td>40008</td>\n",
       "      <td>0</td>\n",
       "      <td>0.064748</td>\n",
       "      <td>107</td>\n",
       "      <td>0</td>\n",
       "      <td>939.000000</td>\n",
       "      <td>NaN</td>\n",
       "      <td>9</td>\n",
       "      <td>0</td>\n",
       "      <td>1</td>\n",
       "      <td>0</td>\n",
       "      <td>0.0</td>\n",
       "    </tr>\n",
       "    <tr>\n",
       "      <th>56761</th>\n",
       "      <td>56762</td>\n",
       "      <td>0</td>\n",
       "      <td>0.003469</td>\n",
       "      <td>105</td>\n",
       "      <td>0</td>\n",
       "      <td>2.000000</td>\n",
       "      <td>NaN</td>\n",
       "      <td>4</td>\n",
       "      <td>0</td>\n",
       "      <td>0</td>\n",
       "      <td>0</td>\n",
       "      <td>NaN</td>\n",
       "    </tr>\n",
       "    <tr>\n",
       "      <th>57967</th>\n",
       "      <td>57968</td>\n",
       "      <td>0</td>\n",
       "      <td>0.001397</td>\n",
       "      <td>103</td>\n",
       "      <td>0</td>\n",
       "      <td>1798.500000</td>\n",
       "      <td>1.0</td>\n",
       "      <td>11</td>\n",
       "      <td>0</td>\n",
       "      <td>2</td>\n",
       "      <td>0</td>\n",
       "      <td>0.0</td>\n",
       "    </tr>\n",
       "    <tr>\n",
       "      <th>90937</th>\n",
       "      <td>90938</td>\n",
       "      <td>0</td>\n",
       "      <td>0.000000</td>\n",
       "      <td>102</td>\n",
       "      <td>0</td>\n",
       "      <td>0.000000</td>\n",
       "      <td>NaN</td>\n",
       "      <td>12</td>\n",
       "      <td>0</td>\n",
       "      <td>0</td>\n",
       "      <td>0</td>\n",
       "      <td>0.0</td>\n",
       "    </tr>\n",
       "    <tr>\n",
       "      <th>93813</th>\n",
       "      <td>93814</td>\n",
       "      <td>0</td>\n",
       "      <td>0.025780</td>\n",
       "      <td>101</td>\n",
       "      <td>0</td>\n",
       "      <td>0.013797</td>\n",
       "      <td>1666.0</td>\n",
       "      <td>5</td>\n",
       "      <td>0</td>\n",
       "      <td>0</td>\n",
       "      <td>0</td>\n",
       "      <td>0.0</td>\n",
       "    </tr>\n",
       "    <tr>\n",
       "      <th>96450</th>\n",
       "      <td>96451</td>\n",
       "      <td>0</td>\n",
       "      <td>0.109642</td>\n",
       "      <td>102</td>\n",
       "      <td>0</td>\n",
       "      <td>0.273844</td>\n",
       "      <td>3417.0</td>\n",
       "      <td>7</td>\n",
       "      <td>0</td>\n",
       "      <td>0</td>\n",
       "      <td>0</td>\n",
       "      <td>1.0</td>\n",
       "    </tr>\n",
       "    <tr>\n",
       "      <th>105790</th>\n",
       "      <td>105791</td>\n",
       "      <td>0</td>\n",
       "      <td>0.109307</td>\n",
       "      <td>109</td>\n",
       "      <td>0</td>\n",
       "      <td>2141.000000</td>\n",
       "      <td>NaN</td>\n",
       "      <td>17</td>\n",
       "      <td>0</td>\n",
       "      <td>1</td>\n",
       "      <td>0</td>\n",
       "      <td>NaN</td>\n",
       "    </tr>\n",
       "    <tr>\n",
       "      <th>116129</th>\n",
       "      <td>116130</td>\n",
       "      <td>1</td>\n",
       "      <td>0.002964</td>\n",
       "      <td>101</td>\n",
       "      <td>2</td>\n",
       "      <td>0.001387</td>\n",
       "      <td>2883.0</td>\n",
       "      <td>6</td>\n",
       "      <td>0</td>\n",
       "      <td>0</td>\n",
       "      <td>0</td>\n",
       "      <td>0.0</td>\n",
       "    </tr>\n",
       "    <tr>\n",
       "      <th>135025</th>\n",
       "      <td>135026</td>\n",
       "      <td>0</td>\n",
       "      <td>0.004059</td>\n",
       "      <td>103</td>\n",
       "      <td>0</td>\n",
       "      <td>5.000000</td>\n",
       "      <td>NaN</td>\n",
       "      <td>6</td>\n",
       "      <td>0</td>\n",
       "      <td>0</td>\n",
       "      <td>0</td>\n",
       "      <td>0.0</td>\n",
       "    </tr>\n",
       "    <tr>\n",
       "      <th>138291</th>\n",
       "      <td>138292</td>\n",
       "      <td>0</td>\n",
       "      <td>0.246529</td>\n",
       "      <td>109</td>\n",
       "      <td>0</td>\n",
       "      <td>318.000000</td>\n",
       "      <td>NaN</td>\n",
       "      <td>3</td>\n",
       "      <td>0</td>\n",
       "      <td>0</td>\n",
       "      <td>0</td>\n",
       "      <td>NaN</td>\n",
       "    </tr>\n",
       "  </tbody>\n",
       "</table>\n",
       "</div>"
      ],
      "text/plain": [
       "        Unnamed: 0  SeriousDlqin2yrs  RevolvingUtilizationOfUnsecuredLines  \\\n",
       "7763          7764                 0                              0.069167   \n",
       "19884        19885                 0                              1.000000   \n",
       "25561        25562                 0                              0.009866   \n",
       "40007        40008                 0                              0.064748   \n",
       "56761        56762                 0                              0.003469   \n",
       "57967        57968                 0                              0.001397   \n",
       "90937        90938                 0                              0.000000   \n",
       "93813        93814                 0                              0.025780   \n",
       "96450        96451                 0                              0.109642   \n",
       "105790      105791                 0                              0.109307   \n",
       "116129      116130                 1                              0.002964   \n",
       "135025      135026                 0                              0.004059   \n",
       "138291      138292                 0                              0.246529   \n",
       "\n",
       "        age  NumberOfTime30-59DaysPastDueNotWorse    DebtRatio  MonthlyIncome  \\\n",
       "7763    101                                     0    50.000000            NaN   \n",
       "19884   103                                     0     0.000000         1600.0   \n",
       "25561   102                                     0     0.002424         3300.0   \n",
       "40007   107                                     0   939.000000            NaN   \n",
       "56761   105                                     0     2.000000            NaN   \n",
       "57967   103                                     0  1798.500000            1.0   \n",
       "90937   102                                     0     0.000000            NaN   \n",
       "93813   101                                     0     0.013797         1666.0   \n",
       "96450   102                                     0     0.273844         3417.0   \n",
       "105790  109                                     0  2141.000000            NaN   \n",
       "116129  101                                     2     0.001387         2883.0   \n",
       "135025  103                                     0     5.000000            NaN   \n",
       "138291  109                                     0   318.000000            NaN   \n",
       "\n",
       "        NumberOfOpenCreditLinesAndLoans  NumberOfTimes90DaysLate  \\\n",
       "7763                                  2                        0   \n",
       "19884                                 3                        0   \n",
       "25561                                 3                        0   \n",
       "40007                                 9                        0   \n",
       "56761                                 4                        0   \n",
       "57967                                11                        0   \n",
       "90937                                12                        0   \n",
       "93813                                 5                        0   \n",
       "96450                                 7                        0   \n",
       "105790                               17                        0   \n",
       "116129                                6                        0   \n",
       "135025                                6                        0   \n",
       "138291                                3                        0   \n",
       "\n",
       "        NumberRealEstateLoansOrLines  NumberOfTime60-89DaysPastDueNotWorse  \\\n",
       "7763                               0                                     0   \n",
       "19884                              0                                     0   \n",
       "25561                              0                                     0   \n",
       "40007                              1                                     0   \n",
       "56761                              0                                     0   \n",
       "57967                              2                                     0   \n",
       "90937                              0                                     0   \n",
       "93813                              0                                     0   \n",
       "96450                              0                                     0   \n",
       "105790                             1                                     0   \n",
       "116129                             0                                     0   \n",
       "135025                             0                                     0   \n",
       "138291                             0                                     0   \n",
       "\n",
       "        NumberOfDependents  \n",
       "7763                   0.0  \n",
       "19884                  0.0  \n",
       "25561                  0.0  \n",
       "40007                  0.0  \n",
       "56761                  NaN  \n",
       "57967                  0.0  \n",
       "90937                  0.0  \n",
       "93813                  0.0  \n",
       "96450                  1.0  \n",
       "105790                 NaN  \n",
       "116129                 0.0  \n",
       "135025                 0.0  \n",
       "138291                 NaN  "
      ]
     },
     "execution_count": 6,
     "metadata": {},
     "output_type": "execute_result"
    }
   ],
   "source": [
    "TRAINING.loc[TRAINING['age'] > 100]"
   ]
  },
  {
   "cell_type": "markdown",
   "id": "f670a1cf",
   "metadata": {},
   "source": [
    "## Data cleaning"
   ]
  },
  {
   "cell_type": "code",
   "execution_count": 7,
   "id": "701a736e",
   "metadata": {},
   "outputs": [
    {
     "data": {
      "image/png": "[encoded data removed]",
      "text/plain": [
       "<Figure size 640x480 with 1 Axes>"
      ]
     },
     "metadata": {},
     "output_type": "display_data"
    }
   ],
   "source": [
    "import matplotlib.pyplot as plt\n",
    "\n",
    "plt.hist(TRAINING['age'])\n",
    "plt.title('Distribution of age')\n",
    "plt.show()"
   ]
  },
  {
   "cell_type": "markdown",
   "id": "30b9565d",
   "metadata": {},
   "source": [
    "Распределение похоже на нормальное с вполне четким видом колокола. Исходя из распределения заполним пропуски средним возрастом:"
   ]
  },
  {
   "cell_type": "code",
   "execution_count": null,
   "id": "fe7de7e6",
   "metadata": {},
   "outputs": [],
   "source": [
    "mean_age = int(TRAINING['age'].mean())\n",
    "\n",
    "TRAINING['age'] = TRAINING['age'].replace(0, mean_age)"
   ]
  },
  {
   "cell_type": "markdown",
   "id": "67a4f54b",
   "metadata": {},
   "source": [
    "Посмотрим на признак **MonthlyIncome**. Его можно логически связать с возрастом клиентов.\n",
    "\n",
    "Разделим клиентов по возрасту на 2 группы: взрослые(*adult*) и пенсионеры(*retiree*).\n",
    "\n",
    "Невозможно сказать, из какой страны клиенты, поэтому в качестве возраста выхода на пенсию возьмем 63 года.\n",
    "\n",
    "Затем в посмотрим на распределения **MonthlyIncome** в каждой группе и заполним пропуски."
   ]
  },
  {
   "cell_type": "code",
   "execution_count": 9,
   "id": "3dc39e76",
   "metadata": {},
   "outputs": [],
   "source": [
    "adult = TRAINING.loc[TRAINING['age'] < 63, 'MonthlyIncome'].dropna().astype(int)\n",
    "retiree  = TRAINING.loc[TRAINING['age'] >= 63, 'MonthlyIncome'].dropna().astype(int)"
   ]
  },
  {
   "cell_type": "code",
   "execution_count": 10,
   "id": "ca6fc8bb",
   "metadata": {},
   "outputs": [
    {
     "data": {
      "image/png": "[encoded data removed]",
      "text/plain": [
       "<Figure size 1000x500 with 1 Axes>"
      ]
     },
     "metadata": {},
     "output_type": "display_data"
    }
   ],
   "source": [
    "# Построение ящика с усами для ежемесячного дохода двух групп\n",
    "\n",
    "plt.figure(figsize=(10, 5))\n",
    "plt.boxplot([\n",
    "    adult, \n",
    "    retiree\n",
    "    ], tick_labels=[\"Adults\", \"Retirees\"], medianprops={'color': 'red'}, boxprops={'color': 'blue'})\n",
    "\n",
    "plt.grid(True)\n",
    "plt.title(\"Monthly income by age group\")\n",
    "plt.ylabel(\"Monthly income\")\n",
    "plt.show()"
   ]
  },
  {
   "cell_type": "markdown",
   "id": "ef8cac16",
   "metadata": {},
   "source": [
    "Получаем, что в среднем доходы клиентов не выше 100.000. Значит, что лучшим решением будет заполнить пропуски медианным значением, так как на среднее будет сильно влиять большое количество выбросов."
   ]
  },
  {
   "cell_type": "code",
   "execution_count": null,
   "id": "795bf366",
   "metadata": {},
   "outputs": [],
   "source": [
    "median_monthly_income_adult = TRAINING.loc[TRAINING['age'] < 63, 'MonthlyIncome'].median()\n",
    "median_monthly_income_retiree = TRAINING.loc[TRAINING['age'] > 63, 'MonthlyIncome'].median()\n",
    "\n",
    "def fill_median_income(dataframe: pd.DataFrame, median_adult: int|float, median_retiree: int|float):\n",
    "    dataframe.loc[dataframe['age'] < 63, 'MonthlyIncome'] = dataframe.loc[dataframe['age'] < 63, 'MonthlyIncome'].fillna(median_adult)\n",
    "    \n",
    "    dataframe.loc[dataframe['age'] >= 63, 'MonthlyIncome'] = dataframe.loc[dataframe['age'] >= 63, 'MonthlyIncome'].fillna(median_retiree)\n",
    "\n",
    "\n",
    "fill_median_income(TRAINING, median_adult=median_monthly_income_adult, median_retiree=median_monthly_income_adult)"
   ]
  },
  {
   "cell_type": "code",
   "execution_count": 13,
   "id": "d15f0fa2",
   "metadata": {},
   "outputs": [
    {
     "data": {
      "text/plain": [
       "NumberOfDependents\n",
       "0.0     86902\n",
       "1.0     26316\n",
       "2.0     19522\n",
       "3.0      9483\n",
       "NaN      3924\n",
       "4.0      2862\n",
       "5.0       746\n",
       "6.0       158\n",
       "7.0        51\n",
       "8.0        24\n",
       "10.0        5\n",
       "9.0         5\n",
       "20.0        1\n",
       "13.0        1\n",
       "Name: count, dtype: int64"
      ]
     },
     "execution_count": 13,
     "metadata": {},
     "output_type": "execute_result"
    }
   ],
   "source": [
    "TRAINING['NumberOfDependents'].value_counts(dropna=False)"
   ]
  },
  {
   "cell_type": "code",
   "execution_count": 14,
   "id": "cfaa3276",
   "metadata": {},
   "outputs": [
    {
     "data": {
      "image/png": "[encoded data removed]",
      "text/plain": [
       "<Figure size 640x480 with 1 Axes>"
      ]
     },
     "metadata": {},
     "output_type": "display_data"
    }
   ],
   "source": [
    "plt.hist(TRAINING['NumberOfDependents'], bins=15)\n",
    "plt.title('Distribution of number of dependents')\n",
    "plt.show()"
   ]
  },
  {
   "cell_type": "markdown",
   "id": "54ba1f35",
   "metadata": {},
   "source": [
    "Распределение напоминает логарифмическую кривую, поэтому хорошим вариантом будет заменить NaN модой:"
   ]
  },
  {
   "cell_type": "code",
   "execution_count": 15,
   "id": "f33f3db4",
   "metadata": {},
   "outputs": [
    {
     "name": "stdout",
     "output_type": "stream",
     "text": [
      "<class 'pandas.core.frame.DataFrame'>\n",
      "RangeIndex: 150000 entries, 0 to 149999\n",
      "Data columns (total 12 columns):\n",
      " #   Column                                Non-Null Count   Dtype  \n",
      "---  ------                                --------------   -----  \n",
      " 0   Unnamed: 0                            150000 non-null  int64  \n",
      " 1   SeriousDlqin2yrs                      150000 non-null  int64  \n",
      " 2   RevolvingUtilizationOfUnsecuredLines  150000 non-null  float64\n",
      " 3   age                                   150000 non-null  int64  \n",
      " 4   NumberOfTime30-59DaysPastDueNotWorse  150000 non-null  int64  \n",
      " 5   DebtRatio                             150000 non-null  float64\n",
      " 6   MonthlyIncome                         150000 non-null  float64\n",
      " 7   NumberOfOpenCreditLinesAndLoans       150000 non-null  int64  \n",
      " 8   NumberOfTimes90DaysLate               150000 non-null  int64  \n",
      " 9   NumberRealEstateLoansOrLines          150000 non-null  int64  \n",
      " 10  NumberOfTime60-89DaysPastDueNotWorse  150000 non-null  int64  \n",
      " 11  NumberOfDependents                    146076 non-null  float64\n",
      "dtypes: float64(4), int64(8)\n",
      "memory usage: 13.7 MB\n"
     ]
    }
   ],
   "source": [
    "TRAINING.info()"
   ]
  },
  {
   "cell_type": "code",
   "execution_count": null,
   "id": "14d5c56e",
   "metadata": {},
   "outputs": [],
   "source": [
    "median_dependents = TRAINING['NumberOfDependents'].mode()[0]\n",
    "\n",
    "TRAINING['NumberOfDependents'] = TRAINING['NumberOfDependents'].fillna(median_dependents)"
   ]
  },
  {
   "cell_type": "markdown",
   "id": "a38d8555",
   "metadata": {},
   "source": [
    "Создадим новые признаки. \n",
    "\n",
    "1. Признак **NumberOfDependents** можно интерпретировать как наличие/отсутствие иждивенцев в семье. Добавим признак **HasDependents**.\n",
    "\n",
    "2. Признаки **NumberOfTime30-59DaysPastDueNotWorse**, **NumberOfTimes90DaysLate** и **NumberOfTime60-89DaysPastDueNotWorse** можно интерпретировать как \"Задерживал/не задерживал платеж\". Добавим признак **HasUnpaidCreditDebts**.\n",
    "\n",
    "3. Признаки **NumberOfOpenCreditLinesAndLoans** и **NumberRealEstateLoansOrLines** информируют о наличии/отсутствии кредитов. Добавим признак **HasCreditLoanOrLine**"
   ]
  },
  {
   "cell_type": "code",
   "execution_count": null,
   "id": "12a17e2e",
   "metadata": {},
   "outputs": [],
   "source": [
    "TRAINING['HasDependents'] = TRAINING['NumberOfDependents'].apply(lambda x: 1 if x > 0 else 0)\n",
    "\n",
    "TRAINING['HasPastDue'] = TRAINING['NumberOfTime30-59DaysPastDueNotWorse'] + TRAINING['NumberOfTime60-89DaysPastDueNotWorse'] + TRAINING['NumberOfTimes90DaysLate']\n",
    "TRAINING['HasPastDue'] = TRAINING['HasPastDue'].apply(lambda x: 1 if x > 0 else 0)\n",
    "\n",
    "TRAINING['HasCreditLoanOrLine'] = TRAINING['NumberOfOpenCreditLinesAndLoans'] + TRAINING['NumberRealEstateLoansOrLines']\n",
    "TRAINING['HasCreditLoanOrLine'] = TRAINING['HasCreditLoanOrLine'].apply(lambda x: 1 if x > 0 else 0)"
   ]
  },
  {
   "cell_type": "markdown",
   "id": "1c8d01aa",
   "metadata": {},
   "source": [
    "Посмотрим на матрицу корреляций:"
   ]
  },
  {
   "cell_type": "code",
   "execution_count": 20,
   "id": "31b52547",
   "metadata": {},
   "outputs": [
    {
     "data": {
      "text/plain": [
       "<Axes: >"
      ]
     },
     "execution_count": 20,
     "metadata": {},
     "output_type": "execute_result"
    },
    {
     "data": {
      "image/png": "[encoded data removed]",
      "text/plain": [
       "<Figure size 1500x1000 with 2 Axes>"
      ]
     },
     "metadata": {},
     "output_type": "display_data"
    }
   ],
   "source": [
    "import seaborn as sns\n",
    "\n",
    "corr = TRAINING.corr()\n",
    "plt.figure(figsize=(15, 10))\n",
    "sns.heatmap(corr, annot=True, fmt='.2g')"
   ]
  },
  {
   "cell_type": "markdown",
   "id": "0b08c8e7",
   "metadata": {},
   "source": [
    "С таргетом сильно коррелирует признак **HasUnpaidCreditDebts**. Также можно заметить, что признак **Age** тоже показывает хорошую корреляцию относительно остальных признаков."
   ]
  },
  {
   "cell_type": "markdown",
   "id": "76b8f20f",
   "metadata": {},
   "source": [
    "Удалим признаки:\n",
    "\n",
    "1. Количество просроченных выплат, поскольку признак **HasPastDue** удачно комбинирует их\n",
    "2. **HasDependents**\n",
    "3. Количество кредитов у клиента, так как признак **HasCreditLoanOrLine** удачно комбинирует их"
   ]
  },
  {
   "cell_type": "code",
   "execution_count": null,
   "id": "e1e5d335",
   "metadata": {},
   "outputs": [],
   "source": [
    "columns_to_drop = ['Unnamed: 0', 'NumberOfTime30-59DaysPastDueNotWorse', 'NumberOfTime60-89DaysPastDueNotWorse', 'NumberOfTimes90DaysLate', 'NumberOfOpenCreditLinesAndLoans',\n",
    "                   'NumberRealEstateLoansOrLines', 'HasDependents']\n",
    "\n",
    "TRAINING.drop(columns=columns_to_drop, inplace=True)"
   ]
  },
  {
   "cell_type": "code",
   "execution_count": 22,
   "id": "202f755d",
   "metadata": {},
   "outputs": [
    {
     "data": {
      "text/plain": [
       "<Axes: title={'center': 'Clean correlation matrix'}>"
      ]
     },
     "execution_count": 22,
     "metadata": {},
     "output_type": "execute_result"
    },
    {
     "data": {
      "image/png": "[encoded data removed]",
      "text/plain": [
       "<Figure size 1500x1000 with 2 Axes>"
      ]
     },
     "metadata": {},
     "output_type": "display_data"
    }
   ],
   "source": [
    "corr = TRAINING.corr()\n",
    "plt.figure(figsize=(15, 10))\n",
    "plt.title('Clean correlation matrix')\n",
    "sns.heatmap(corr, annot=True, fmt='.2g')"
   ]
  },
  {
   "cell_type": "code",
   "execution_count": 23,
   "id": "e8cf1401",
   "metadata": {},
   "outputs": [
    {
     "name": "stdout",
     "output_type": "stream",
     "text": [
      "<class 'pandas.core.frame.DataFrame'>\n",
      "RangeIndex: 150000 entries, 0 to 149999\n",
      "Data columns (total 8 columns):\n",
      " #   Column                                Non-Null Count   Dtype  \n",
      "---  ------                                --------------   -----  \n",
      " 0   SeriousDlqin2yrs                      150000 non-null  int64  \n",
      " 1   RevolvingUtilizationOfUnsecuredLines  150000 non-null  float64\n",
      " 2   age                                   150000 non-null  int64  \n",
      " 3   DebtRatio                             150000 non-null  float64\n",
      " 4   MonthlyIncome                         150000 non-null  float64\n",
      " 5   NumberOfDependents                    150000 non-null  float64\n",
      " 6   HasPastDue                            150000 non-null  int64  \n",
      " 7   HasCreditLoanOrLine                   150000 non-null  int64  \n",
      "dtypes: float64(4), int64(4)\n",
      "memory usage: 9.2 MB\n"
     ]
    }
   ],
   "source": [
    "TRAINING.info()"
   ]
  },
  {
   "cell_type": "code",
   "execution_count": null,
   "id": "30f18dea",
   "metadata": {},
   "outputs": [],
   "source": [
    "X_train = TRAINING.drop(columns='SeriousDlqin2yrs')\n",
    "y_train = TRAINING['SeriousDlqin2yrs']"
   ]
  },
  {
   "cell_type": "markdown",
   "id": "22c6671a",
   "metadata": {},
   "source": [
    "# Model Training"
   ]
  },
  {
   "cell_type": "markdown",
   "id": "5de9f364",
   "metadata": {},
   "source": [
    "В качестве модели возьмем логистическую регрессию с L1-регуляризацией, для этого выберем solver 'saga', так как он поддерживает L1-регуляризацию и рассчитан на большие датасеты. Гиперпараметр 'C' подберем с помощью GridSearch, также установим class_weight 'balanced', так как в данных присутствует дисбаланс классов тагрета:"
   ]
  },
  {
   "cell_type": "code",
   "execution_count": 25,
   "id": "8f6e8f00",
   "metadata": {},
   "outputs": [
    {
     "data": {
      "image/png": "[encoded data removed]",
      "text/plain": [
       "<Figure size 300x300 with 1 Axes>"
      ]
     },
     "metadata": {},
     "output_type": "display_data"
    }
   ],
   "source": [
    "plt.figure(figsize=(3, 3))\n",
    "sns.countplot(x='SeriousDlqin2yrs', data=TRAINING)\n",
    "plt.show()"
   ]
  },
  {
   "cell_type": "code",
   "execution_count": 26,
   "id": "ff2a8e96",
   "metadata": {},
   "outputs": [],
   "source": [
    "from sklearn.linear_model import LogisticRegression\n",
    "from sklearn.preprocessing import StandardScaler\n",
    "from sklearn.model_selection import cross_val_score, GridSearchCV"
   ]
  },
  {
   "cell_type": "markdown",
   "id": "cd13535f",
   "metadata": {},
   "source": [
    "В качестве метрики выберем f1-score, поскольку нам необходимо в равной степени иметь высокие recall и precision. Также, так как в данных присутсвует дисбаланс классов, f1 в отличие от roc-auc будет честнее оценивать предсказательную способность модели."
   ]
  },
  {
   "cell_type": "code",
   "execution_count": null,
   "id": "841fbcd5",
   "metadata": {},
   "outputs": [],
   "source": [
    "scaler = StandardScaler()\n",
    "X_train_scaled = scaler.fit_transform(X_train)"
   ]
  },
  {
   "cell_type": "code",
   "execution_count": null,
   "id": "676c849c",
   "metadata": {},
   "outputs": [],
   "source": [
    "params = {'C': np.arange(0.01, 1, 0.01)}\n",
    "model = LogisticRegression(solver='saga', penalty='l1', class_weight='balanced')\n",
    "\n",
    "gs = GridSearchCV(model, params, cv=3, scoring='f1')\n",
    "gs.fit(X_train_scaled, y_train)\n",
    "\n",
    "logistic_regression = gs.best_estimator_"
   ]
  },
  {
   "cell_type": "code",
   "execution_count": null,
   "id": "c93a3d89",
   "metadata": {},
   "outputs": [
    {
     "data": {
      "text/plain": [
       "np.float64(0.33405277348242013)"
      ]
     },
     "execution_count": 38,
     "metadata": {},
     "output_type": "execute_result"
    }
   ],
   "source": [
    "from sklearn.pipeline import Pipeline\n",
    "\n",
    "pipeline_linear = Pipeline([\n",
    "    ('Scaler', StandardScaler()),\n",
    "    ('Model', logistic_regression)\n",
    "])\n",
    "\n",
    "score_linear = cross_val_score(pipeline_linear, X_train, y_train, cv=3, scoring='f1').mean()"
   ]
  },
  {
   "cell_type": "markdown",
   "id": "3591ffe0",
   "metadata": {},
   "source": [
    "f1 показывает не самый хороший результат. Попробуем другие модели:"
   ]
  },
  {
   "cell_type": "code",
   "execution_count": 28,
   "id": "64b009ed",
   "metadata": {},
   "outputs": [],
   "source": [
    "from sklearn.ensemble import RandomForestClassifier, GradientBoostingClassifier\n",
    "from sklearn.svm import SVC\n",
    "from sklearn.neighbors import KNeighborsClassifier"
   ]
  },
  {
   "cell_type": "markdown",
   "id": "e078cf88",
   "metadata": {},
   "source": [
    "RandomForest и GradientBoosting очень зависимы от гиперпараметров, для ускорения их подбора воспользуемся не GridSearch, а Optuna"
   ]
  },
  {
   "cell_type": "code",
   "execution_count": 43,
   "id": "bd09f6d6",
   "metadata": {},
   "outputs": [],
   "source": [
    "import optuna\n",
    "\n",
    "# objective для RandomForest\n",
    "def objective(trial):\n",
    "    n_estimators = trial.suggest_int('n_estimators', 10, 500)\n",
    "    max_depth = trial.suggest_int('max_depth', 2, 10)\n",
    "    criterion = trial.suggest_categorical('criterion', ['gini', 'entropy', 'log_loss'])\n",
    "    \n",
    "    model = RandomForestClassifier(n_estimators=n_estimators, max_depth=max_depth, criterion=criterion, random_state=RANDOM_STATE)\n",
    "    \n",
    "    return cross_val_score(model, X_train, y_train, cv=3, scoring='f1', n_jobs=-1).mean()"
   ]
  },
  {
   "cell_type": "code",
   "execution_count": null,
   "id": "93c4bb65",
   "metadata": {},
   "outputs": [
    {
     "name": "stderr",
     "output_type": "stream",
     "text": [
      "[I 2025-08-22 14:45:38,554] A new study created in memory with name: no-name-0351b64a-ac70-4c98-83df-f358d92c90aa\n",
      "Best trial: 0. Best value: 0:   2%|▎         | 1/40 [00:11<07:41, 11.84s/it]"
     ]
    },
    {
     "name": "stdout",
     "output_type": "stream",
     "text": [
      "[I 2025-08-22 14:45:50,393] Trial 0 finished with value: 0.0 and parameters: {'n_estimators': 482, 'max_depth': 2, 'criterion': 'log_loss'}. Best is trial 0 with value: 0.0.\n"
     ]
    },
    {
     "name": "stderr",
     "output_type": "stream",
     "text": [
      "Best trial: 1. Best value: 0.00337569:   5%|▌         | 2/40 [00:35<12:05, 19.08s/it]"
     ]
    },
    {
     "name": "stdout",
     "output_type": "stream",
     "text": [
      "[I 2025-08-22 14:46:14,545] Trial 1 finished with value: 0.003375690918207925 and parameters: {'n_estimators': 469, 'max_depth': 7, 'criterion': 'gini'}. Best is trial 1 with value: 0.003375690918207925.\n"
     ]
    },
    {
     "name": "stderr",
     "output_type": "stream",
     "text": [
      "Best trial: 2. Best value: 0.0736497:   8%|▊         | 3/40 [01:05<14:38, 23.74s/it] "
     ]
    },
    {
     "name": "stdout",
     "output_type": "stream",
     "text": [
      "[I 2025-08-22 14:46:43,831] Trial 2 finished with value: 0.07364974171071162 and parameters: {'n_estimators': 418, 'max_depth': 10, 'criterion': 'gini'}. Best is trial 2 with value: 0.07364974171071162.\n"
     ]
    },
    {
     "name": "stderr",
     "output_type": "stream",
     "text": [
      "Best trial: 2. Best value: 0.0736497:  10%|█         | 4/40 [01:19<11:53, 19.81s/it]"
     ]
    },
    {
     "name": "stdout",
     "output_type": "stream",
     "text": [
      "[I 2025-08-22 14:46:57,613] Trial 3 finished with value: 0.0 and parameters: {'n_estimators': 493, 'max_depth': 3, 'criterion': 'log_loss'}. Best is trial 2 with value: 0.07364974171071162.\n"
     ]
    },
    {
     "name": "stderr",
     "output_type": "stream",
     "text": [
      "Best trial: 2. Best value: 0.0736497:  12%|█▎        | 5/40 [01:31<09:59, 17.13s/it]"
     ]
    },
    {
     "name": "stdout",
     "output_type": "stream",
     "text": [
      "[I 2025-08-22 14:47:10,005] Trial 4 finished with value: 0.05249951526827165 and parameters: {'n_estimators': 201, 'max_depth': 9, 'criterion': 'gini'}. Best is trial 2 with value: 0.07364974171071162.\n"
     ]
    },
    {
     "name": "stderr",
     "output_type": "stream",
     "text": [
      "Best trial: 2. Best value: 0.0736497:  15%|█▌        | 6/40 [01:38<07:49, 13.81s/it]"
     ]
    },
    {
     "name": "stdout",
     "output_type": "stream",
     "text": [
      "[I 2025-08-22 14:47:17,348] Trial 5 finished with value: 0.0 and parameters: {'n_estimators': 294, 'max_depth': 2, 'criterion': 'log_loss'}. Best is trial 2 with value: 0.07364974171071162.\n"
     ]
    },
    {
     "name": "stderr",
     "output_type": "stream",
     "text": [
      "Best trial: 2. Best value: 0.0736497:  18%|█▊        | 7/40 [02:00<09:02, 16.44s/it]"
     ]
    },
    {
     "name": "stdout",
     "output_type": "stream",
     "text": [
      "[I 2025-08-22 14:47:39,206] Trial 6 finished with value: 0.028630494582029653 and parameters: {'n_estimators': 373, 'max_depth': 8, 'criterion': 'gini'}. Best is trial 2 with value: 0.07364974171071162.\n"
     ]
    },
    {
     "name": "stderr",
     "output_type": "stream",
     "text": [
      "Best trial: 2. Best value: 0.0736497:  20%|██        | 8/40 [02:19<09:06, 17.09s/it]"
     ]
    },
    {
     "name": "stdout",
     "output_type": "stream",
     "text": [
      "[I 2025-08-22 14:47:57,689] Trial 7 finished with value: 0.05853520235559314 and parameters: {'n_estimators': 244, 'max_depth': 10, 'criterion': 'log_loss'}. Best is trial 2 with value: 0.07364974171071162.\n"
     ]
    },
    {
     "name": "stderr",
     "output_type": "stream",
     "text": [
      "Best trial: 2. Best value: 0.0736497:  22%|██▎       | 9/40 [02:37<09:04, 17.56s/it]"
     ]
    },
    {
     "name": "stdout",
     "output_type": "stream",
     "text": [
      "[I 2025-08-22 14:48:16,291] Trial 8 finished with value: 0.012238150263688949 and parameters: {'n_estimators': 293, 'max_depth': 8, 'criterion': 'log_loss'}. Best is trial 2 with value: 0.07364974171071162.\n"
     ]
    },
    {
     "name": "stderr",
     "output_type": "stream",
     "text": [
      "Best trial: 2. Best value: 0.0736497:  25%|██▌       | 10/40 [02:46<07:24, 14.83s/it]"
     ]
    },
    {
     "name": "stdout",
     "output_type": "stream",
     "text": [
      "[I 2025-08-22 14:48:25,008] Trial 9 finished with value: 0.0 and parameters: {'n_estimators': 410, 'max_depth': 2, 'criterion': 'log_loss'}. Best is trial 2 with value: 0.07364974171071162.\n"
     ]
    },
    {
     "name": "stderr",
     "output_type": "stream",
     "text": [
      "Best trial: 2. Best value: 0.0736497:  28%|██▊       | 11/40 [02:48<05:13, 10.82s/it]"
     ]
    },
    {
     "name": "stdout",
     "output_type": "stream",
     "text": [
      "[I 2025-08-22 14:48:26,748] Trial 10 finished with value: 0.0 and parameters: {'n_estimators': 37, 'max_depth': 5, 'criterion': 'entropy'}. Best is trial 2 with value: 0.07364974171071162.\n"
     ]
    },
    {
     "name": "stderr",
     "output_type": "stream",
     "text": [
      "Best trial: 2. Best value: 0.0736497:  30%|███       | 12/40 [03:02<05:33, 11.92s/it]"
     ]
    },
    {
     "name": "stdout",
     "output_type": "stream",
     "text": [
      "[I 2025-08-22 14:48:41,162] Trial 11 finished with value: 0.05784826215770278 and parameters: {'n_estimators': 185, 'max_depth': 10, 'criterion': 'entropy'}. Best is trial 2 with value: 0.07364974171071162.\n"
     ]
    },
    {
     "name": "stderr",
     "output_type": "stream",
     "text": [
      "Best trial: 12. Best value: 0.0782462:  32%|███▎      | 13/40 [03:11<04:55, 10.93s/it]"
     ]
    },
    {
     "name": "stdout",
     "output_type": "stream",
     "text": [
      "[I 2025-08-22 14:48:49,814] Trial 12 finished with value: 0.07824615482312405 and parameters: {'n_estimators': 124, 'max_depth': 10, 'criterion': 'gini'}. Best is trial 12 with value: 0.07824615482312405.\n"
     ]
    },
    {
     "name": "stderr",
     "output_type": "stream",
     "text": [
      "Best trial: 12. Best value: 0.0782462:  35%|███▌      | 14/40 [03:14<03:43,  8.60s/it]"
     ]
    },
    {
     "name": "stdout",
     "output_type": "stream",
     "text": [
      "[I 2025-08-22 14:48:53,026] Trial 13 finished with value: 0.0 and parameters: {'n_estimators': 73, 'max_depth': 5, 'criterion': 'gini'}. Best is trial 12 with value: 0.07824615482312405.\n"
     ]
    },
    {
     "name": "stderr",
     "output_type": "stream",
     "text": [
      "Best trial: 12. Best value: 0.0782462:  38%|███▊      | 15/40 [03:22<03:33,  8.55s/it]"
     ]
    },
    {
     "name": "stdout",
     "output_type": "stream",
     "text": [
      "[I 2025-08-22 14:49:01,454] Trial 14 finished with value: 0.07768735108409554 and parameters: {'n_estimators': 116, 'max_depth': 10, 'criterion': 'gini'}. Best is trial 12 with value: 0.07824615482312405.\n"
     ]
    },
    {
     "name": "stderr",
     "output_type": "stream",
     "text": [
      "Best trial: 12. Best value: 0.0782462:  40%|████      | 16/40 [03:29<03:13,  8.06s/it]"
     ]
    },
    {
     "name": "stdout",
     "output_type": "stream",
     "text": [
      "[I 2025-08-22 14:49:08,379] Trial 15 finished with value: 0.03164823219727748 and parameters: {'n_estimators': 115, 'max_depth': 8, 'criterion': 'gini'}. Best is trial 12 with value: 0.07824615482312405.\n"
     ]
    },
    {
     "name": "stderr",
     "output_type": "stream",
     "text": [
      "Best trial: 12. Best value: 0.0782462:  42%|████▎     | 17/40 [03:35<02:49,  7.38s/it]"
     ]
    },
    {
     "name": "stdout",
     "output_type": "stream",
     "text": [
      "[I 2025-08-22 14:49:14,185] Trial 16 finished with value: 0.0 and parameters: {'n_estimators': 124, 'max_depth': 6, 'criterion': 'gini'}. Best is trial 12 with value: 0.07824615482312405.\n"
     ]
    },
    {
     "name": "stderr",
     "output_type": "stream",
     "text": [
      "Best trial: 12. Best value: 0.0782462:  45%|████▌     | 18/40 [03:36<01:59,  5.43s/it]"
     ]
    },
    {
     "name": "stdout",
     "output_type": "stream",
     "text": [
      "[I 2025-08-22 14:49:15,087] Trial 17 finished with value: 0.05556164857470099 and parameters: {'n_estimators': 12, 'max_depth': 9, 'criterion': 'gini'}. Best is trial 12 with value: 0.07824615482312405.\n"
     ]
    },
    {
     "name": "stderr",
     "output_type": "stream",
     "text": [
      "Best trial: 12. Best value: 0.0782462:  48%|████▊     | 19/40 [03:47<02:26,  6.99s/it]"
     ]
    },
    {
     "name": "stdout",
     "output_type": "stream",
     "text": [
      "[I 2025-08-22 14:49:25,695] Trial 18 finished with value: 0.04480176492386964 and parameters: {'n_estimators': 143, 'max_depth': 9, 'criterion': 'entropy'}. Best is trial 12 with value: 0.07824615482312405.\n"
     ]
    },
    {
     "name": "stderr",
     "output_type": "stream",
     "text": [
      "Best trial: 12. Best value: 0.0782462:  50%|█████     | 20/40 [03:50<02:00,  6.01s/it]"
     ]
    },
    {
     "name": "stdout",
     "output_type": "stream",
     "text": [
      "[I 2025-08-22 14:49:29,429] Trial 19 finished with value: 0.0029702567092265617 and parameters: {'n_estimators': 71, 'max_depth': 7, 'criterion': 'gini'}. Best is trial 12 with value: 0.07824615482312405.\n"
     ]
    },
    {
     "name": "stderr",
     "output_type": "stream",
     "text": [
      "Best trial: 12. Best value: 0.0782462:  52%|█████▎    | 21/40 [03:56<01:54,  6.04s/it]"
     ]
    },
    {
     "name": "stdout",
     "output_type": "stream",
     "text": [
      "[I 2025-08-22 14:49:35,537] Trial 20 finished with value: 0.0 and parameters: {'n_estimators': 180, 'max_depth': 4, 'criterion': 'gini'}. Best is trial 12 with value: 0.07824615482312405.\n"
     ]
    },
    {
     "name": "stderr",
     "output_type": "stream",
     "text": [
      "Best trial: 12. Best value: 0.0782462:  55%|█████▌    | 22/40 [04:22<03:31, 11.75s/it]"
     ]
    },
    {
     "name": "stdout",
     "output_type": "stream",
     "text": [
      "[I 2025-08-22 14:50:00,586] Trial 21 finished with value: 0.07594757719447151 and parameters: {'n_estimators': 359, 'max_depth': 10, 'criterion': 'gini'}. Best is trial 12 with value: 0.07824615482312405.\n"
     ]
    },
    {
     "name": "stderr",
     "output_type": "stream",
     "text": [
      "Best trial: 12. Best value: 0.0782462:  57%|█████▊    | 23/40 [04:46<04:23, 15.48s/it]"
     ]
    },
    {
     "name": "stdout",
     "output_type": "stream",
     "text": [
      "[I 2025-08-22 14:50:24,774] Trial 22 finished with value: 0.07539996155069349 and parameters: {'n_estimators': 348, 'max_depth': 10, 'criterion': 'gini'}. Best is trial 12 with value: 0.07824615482312405.\n"
     ]
    },
    {
     "name": "stderr",
     "output_type": "stream",
     "text": [
      "Best trial: 12. Best value: 0.0782462:  60%|██████    | 24/40 [05:02<04:09, 15.57s/it]"
     ]
    },
    {
     "name": "stdout",
     "output_type": "stream",
     "text": [
      "[I 2025-08-22 14:50:40,557] Trial 23 finished with value: 0.05136406594592414 and parameters: {'n_estimators': 247, 'max_depth': 9, 'criterion': 'gini'}. Best is trial 12 with value: 0.07824615482312405.\n"
     ]
    },
    {
     "name": "stderr",
     "output_type": "stream",
     "text": [
      "Best trial: 12. Best value: 0.0782462:  62%|██████▎   | 25/40 [05:23<04:20, 17.39s/it]"
     ]
    },
    {
     "name": "stdout",
     "output_type": "stream",
     "text": [
      "[I 2025-08-22 14:51:02,191] Trial 24 finished with value: 0.07611485043170603 and parameters: {'n_estimators': 309, 'max_depth': 10, 'criterion': 'gini'}. Best is trial 12 with value: 0.07824615482312405.\n"
     ]
    },
    {
     "name": "stderr",
     "output_type": "stream",
     "text": [
      "Best trial: 12. Best value: 0.0782462:  65%|██████▌   | 26/40 [05:44<04:18, 18.47s/it]"
     ]
    },
    {
     "name": "stdout",
     "output_type": "stream",
     "text": [
      "[I 2025-08-22 14:51:23,194] Trial 25 finished with value: 0.039294230793822035 and parameters: {'n_estimators': 288, 'max_depth': 9, 'criterion': 'entropy'}. Best is trial 12 with value: 0.07824615482312405.\n"
     ]
    },
    {
     "name": "stderr",
     "output_type": "stream",
     "text": [
      "Best trial: 12. Best value: 0.0782462:  68%|██████▊   | 27/40 [05:48<03:04, 14.20s/it]"
     ]
    },
    {
     "name": "stdout",
     "output_type": "stream",
     "text": [
      "[I 2025-08-22 14:51:27,411] Trial 26 finished with value: 0.004360755042400521 and parameters: {'n_estimators': 79, 'max_depth': 7, 'criterion': 'gini'}. Best is trial 12 with value: 0.07824615482312405.\n"
     ]
    },
    {
     "name": "stderr",
     "output_type": "stream",
     "text": [
      "Best trial: 12. Best value: 0.0782462:  70%|███████   | 28/40 [05:57<02:31, 12.66s/it]"
     ]
    },
    {
     "name": "stdout",
     "output_type": "stream",
     "text": [
      "[I 2025-08-22 14:51:36,502] Trial 27 finished with value: 0.027436609003522846 and parameters: {'n_estimators': 154, 'max_depth': 8, 'criterion': 'gini'}. Best is trial 12 with value: 0.07824615482312405.\n"
     ]
    },
    {
     "name": "stderr",
     "output_type": "stream",
     "text": [
      "Best trial: 12. Best value: 0.0782462:  72%|███████▎  | 29/40 [06:13<02:28, 13.52s/it]"
     ]
    },
    {
     "name": "stdout",
     "output_type": "stream",
     "text": [
      "[I 2025-08-22 14:51:52,013] Trial 28 finished with value: 0.075162948291686 and parameters: {'n_estimators': 220, 'max_depth': 10, 'criterion': 'gini'}. Best is trial 12 with value: 0.07824615482312405.\n"
     ]
    },
    {
     "name": "stderr",
     "output_type": "stream",
     "text": [
      "Best trial: 12. Best value: 0.0782462:  75%|███████▌  | 30/40 [06:37<02:45, 16.57s/it]"
     ]
    },
    {
     "name": "stdout",
     "output_type": "stream",
     "text": [
      "[I 2025-08-22 14:52:15,704] Trial 29 finished with value: 0.03998112513654397 and parameters: {'n_estimators': 323, 'max_depth': 9, 'criterion': 'entropy'}. Best is trial 12 with value: 0.07824615482312405.\n"
     ]
    },
    {
     "name": "stderr",
     "output_type": "stream",
     "text": [
      "Best trial: 12. Best value: 0.0782462:  78%|███████▊  | 31/40 [06:41<01:55, 12.87s/it]"
     ]
    },
    {
     "name": "stdout",
     "output_type": "stream",
     "text": [
      "[I 2025-08-22 14:52:19,946] Trial 30 finished with value: 0.0 and parameters: {'n_estimators': 89, 'max_depth': 6, 'criterion': 'gini'}. Best is trial 12 with value: 0.07824615482312405.\n"
     ]
    },
    {
     "name": "stderr",
     "output_type": "stream",
     "text": [
      "Best trial: 12. Best value: 0.0782462:  80%|████████  | 32/40 [07:08<02:16, 17.11s/it]"
     ]
    },
    {
     "name": "stdout",
     "output_type": "stream",
     "text": [
      "[I 2025-08-22 14:52:46,940] Trial 31 finished with value: 0.07466232389237999 and parameters: {'n_estimators': 384, 'max_depth': 10, 'criterion': 'gini'}. Best is trial 12 with value: 0.07824615482312405.\n"
     ]
    },
    {
     "name": "stderr",
     "output_type": "stream",
     "text": [
      "Best trial: 12. Best value: 0.0782462:  82%|████████▎ | 33/40 [07:40<02:30, 21.52s/it]"
     ]
    },
    {
     "name": "stdout",
     "output_type": "stream",
     "text": [
      "[I 2025-08-22 14:53:18,741] Trial 32 finished with value: 0.07331707462522256 and parameters: {'n_estimators': 452, 'max_depth': 10, 'criterion': 'gini'}. Best is trial 12 with value: 0.07824615482312405.\n"
     ]
    },
    {
     "name": "stderr",
     "output_type": "stream",
     "text": [
      "Best trial: 12. Best value: 0.0782462:  85%|████████▌ | 34/40 [08:04<02:14, 22.35s/it]"
     ]
    },
    {
     "name": "stdout",
     "output_type": "stream",
     "text": [
      "[I 2025-08-22 14:53:43,040] Trial 33 finished with value: 0.07683711135768938 and parameters: {'n_estimators': 341, 'max_depth': 10, 'criterion': 'gini'}. Best is trial 12 with value: 0.07824615482312405.\n"
     ]
    },
    {
     "name": "stderr",
     "output_type": "stream",
     "text": [
      "Best trial: 12. Best value: 0.0782462:  88%|████████▊ | 35/40 [08:22<01:44, 20.99s/it]"
     ]
    },
    {
     "name": "stdout",
     "output_type": "stream",
     "text": [
      "[I 2025-08-22 14:54:00,845] Trial 34 finished with value: 0.053213819465620545 and parameters: {'n_estimators': 273, 'max_depth': 9, 'criterion': 'gini'}. Best is trial 12 with value: 0.07824615482312405.\n"
     ]
    },
    {
     "name": "stderr",
     "output_type": "stream",
     "text": [
      "Best trial: 12. Best value: 0.0782462:  90%|█████████ | 36/40 [08:38<01:18, 19.51s/it]"
     ]
    },
    {
     "name": "stdout",
     "output_type": "stream",
     "text": [
      "[I 2025-08-22 14:54:16,922] Trial 35 finished with value: 0.07478377947506841 and parameters: {'n_estimators': 225, 'max_depth': 10, 'criterion': 'gini'}. Best is trial 12 with value: 0.07824615482312405.\n"
     ]
    },
    {
     "name": "stderr",
     "output_type": "stream",
     "text": [
      "Best trial: 12. Best value: 0.0782462:  92%|█████████▎| 37/40 [08:57<00:58, 19.54s/it]"
     ]
    },
    {
     "name": "stdout",
     "output_type": "stream",
     "text": [
      "[I 2025-08-22 14:54:36,515] Trial 36 finished with value: 0.027665834388860982 and parameters: {'n_estimators': 330, 'max_depth': 8, 'criterion': 'gini'}. Best is trial 12 with value: 0.07824615482312405.\n"
     ]
    },
    {
     "name": "stderr",
     "output_type": "stream",
     "text": [
      "Best trial: 12. Best value: 0.0782462:  95%|█████████▌| 38/40 [09:23<00:42, 21.41s/it]"
     ]
    },
    {
     "name": "stdout",
     "output_type": "stream",
     "text": [
      "[I 2025-08-22 14:55:02,300] Trial 37 finished with value: 0.050280248307428936 and parameters: {'n_estimators': 393, 'max_depth': 9, 'criterion': 'gini'}. Best is trial 12 with value: 0.07824615482312405.\n"
     ]
    },
    {
     "name": "stderr",
     "output_type": "stream",
     "text": [
      "Best trial: 12. Best value: 0.0782462:  98%|█████████▊| 39/40 [09:50<00:22, 22.99s/it]"
     ]
    },
    {
     "name": "stdout",
     "output_type": "stream",
     "text": [
      "[I 2025-08-22 14:55:28,981] Trial 38 finished with value: 0.0001994216771363047 and parameters: {'n_estimators': 445, 'max_depth': 7, 'criterion': 'log_loss'}. Best is trial 12 with value: 0.07824615482312405.\n"
     ]
    },
    {
     "name": "stderr",
     "output_type": "stream",
     "text": [
      "Best trial: 12. Best value: 0.0782462: 100%|██████████| 40/40 [10:13<00:00, 15.34s/it]"
     ]
    },
    {
     "name": "stdout",
     "output_type": "stream",
     "text": [
      "[I 2025-08-22 14:55:52,181] Trial 39 finished with value: 0.0770093283343397 and parameters: {'n_estimators': 320, 'max_depth': 10, 'criterion': 'gini'}. Best is trial 12 with value: 0.07824615482312405.\n"
     ]
    },
    {
     "name": "stderr",
     "output_type": "stream",
     "text": [
      "\n"
     ]
    }
   ],
   "source": [
    "study = optuna.create_study(direction='maximize')\n",
    "study.optimize(objective, n_trials=40, show_progress_bar=True)\n",
    "\n",
    "score_forest = study.best_value"
   ]
  },
  {
   "cell_type": "code",
   "execution_count": 47,
   "id": "53a5346c",
   "metadata": {},
   "outputs": [],
   "source": [
    "# objective для GradientBoosting\n",
    "def gradient_objective(trial):\n",
    "    n_estimators = trial.suggest_int('n_estimators', 10, 500)\n",
    "    max_depth = trial.suggest_int('max_depth', 2, 10)\n",
    "    learning_rate = trial.suggest_float('learning_rate', 0.01, 1)\n",
    "    \n",
    "    model = GradientBoostingClassifier(n_estimators=n_estimators, max_depth=max_depth, learning_rate=learning_rate, random_state=RANDOM_STATE)\n",
    "    \n",
    "    return cross_val_score(model, X_train, y_train, cv=3, scoring='f1', n_jobs=-1).mean()"
   ]
  },
  {
   "cell_type": "code",
   "execution_count": null,
   "id": "3af36861",
   "metadata": {},
   "outputs": [
    {
     "name": "stderr",
     "output_type": "stream",
     "text": [
      "[I 2025-08-22 15:02:05,237] A new study created in memory with name: no-name-6b6970e9-b0e2-4d4e-995f-45a2ce837223\n",
      "Best trial: 0. Best value: 0.134573:   2%|▎         | 1/40 [00:12<07:56, 12.23s/it]"
     ]
    },
    {
     "name": "stdout",
     "output_type": "stream",
     "text": [
      "[I 2025-08-22 15:02:17,467] Trial 0 finished with value: 0.1345726363043834 and parameters: {'n_estimators': 54, 'max_depth': 6, 'learning_rate': 0.3347755516192265}. Best is trial 0 with value: 0.1345726363043834.\n"
     ]
    },
    {
     "name": "stderr",
     "output_type": "stream",
     "text": [
      "Best trial: 1. Best value: 0.164139:   5%|▌         | 2/40 [00:56<19:50, 31.33s/it]"
     ]
    },
    {
     "name": "stdout",
     "output_type": "stream",
     "text": [
      "[I 2025-08-22 15:03:02,177] Trial 1 finished with value: 0.16413897135542996 and parameters: {'n_estimators': 433, 'max_depth': 3, 'learning_rate': 0.601050182672981}. Best is trial 1 with value: 0.16413897135542996.\n"
     ]
    },
    {
     "name": "stderr",
     "output_type": "stream",
     "text": [
      "Best trial: 2. Best value: 0.24224:   8%|▊         | 3/40 [01:58<27:47, 45.06s/it] "
     ]
    },
    {
     "name": "stdout",
     "output_type": "stream",
     "text": [
      "[I 2025-08-22 15:04:03,572] Trial 2 finished with value: 0.24223979903351264 and parameters: {'n_estimators': 367, 'max_depth': 5, 'learning_rate': 0.9510730767866432}. Best is trial 2 with value: 0.24223979903351264.\n"
     ]
    },
    {
     "name": "stderr",
     "output_type": "stream",
     "text": [
      "Best trial: 2. Best value: 0.24224:  10%|█         | 4/40 [02:03<17:33, 29.26s/it]"
     ]
    },
    {
     "name": "stdout",
     "output_type": "stream",
     "text": [
      "[I 2025-08-22 15:04:08,603] Trial 3 finished with value: 0.03200191932667275 and parameters: {'n_estimators': 14, 'max_depth': 8, 'learning_rate': 0.09144056924713476}. Best is trial 2 with value: 0.24223979903351264.\n"
     ]
    },
    {
     "name": "stderr",
     "output_type": "stream",
     "text": [
      "Best trial: 2. Best value: 0.24224:  12%|█▎        | 5/40 [02:13<13:02, 22.36s/it]"
     ]
    },
    {
     "name": "stdout",
     "output_type": "stream",
     "text": [
      "[I 2025-08-22 15:04:18,719] Trial 4 finished with value: 0.18314491893583673 and parameters: {'n_estimators': 37, 'max_depth': 8, 'learning_rate': 0.7485349581537604}. Best is trial 2 with value: 0.24223979903351264.\n"
     ]
    },
    {
     "name": "stderr",
     "output_type": "stream",
     "text": [
      "Best trial: 2. Best value: 0.24224:  15%|█▌        | 6/40 [02:43<14:13, 25.09s/it]"
     ]
    },
    {
     "name": "stdout",
     "output_type": "stream",
     "text": [
      "[I 2025-08-22 15:04:49,123] Trial 5 finished with value: 0.13107187014761748 and parameters: {'n_estimators': 423, 'max_depth': 2, 'learning_rate': 0.30932531521904305}. Best is trial 2 with value: 0.24223979903351264.\n"
     ]
    },
    {
     "name": "stderr",
     "output_type": "stream",
     "text": [
      "Best trial: 2. Best value: 0.24224:  18%|█▊        | 7/40 [03:15<14:56, 27.18s/it]"
     ]
    },
    {
     "name": "stdout",
     "output_type": "stream",
     "text": [
      "[I 2025-08-22 15:05:20,596] Trial 6 finished with value: 0.15691879674358822 and parameters: {'n_estimators': 285, 'max_depth': 3, 'learning_rate': 0.6606415316215031}. Best is trial 2 with value: 0.24223979903351264.\n"
     ]
    },
    {
     "name": "stderr",
     "output_type": "stream",
     "text": [
      "Best trial: 2. Best value: 0.24224:  20%|██        | 8/40 [03:33<12:56, 24.26s/it]"
     ]
    },
    {
     "name": "stdout",
     "output_type": "stream",
     "text": [
      "[I 2025-08-22 15:05:38,621] Trial 7 finished with value: 0.15445957043593886 and parameters: {'n_estimators': 168, 'max_depth': 3, 'learning_rate': 0.9634711718279534}. Best is trial 2 with value: 0.24223979903351264.\n"
     ]
    },
    {
     "name": "stderr",
     "output_type": "stream",
     "text": [
      "Best trial: 2. Best value: 0.24224:  22%|██▎       | 9/40 [05:07<23:48, 46.08s/it]"
     ]
    },
    {
     "name": "stdout",
     "output_type": "stream",
     "text": [
      "[I 2025-08-22 15:07:12,686] Trial 8 finished with value: 0.19925057539929422 and parameters: {'n_estimators': 383, 'max_depth': 7, 'learning_rate': 0.556721110849524}. Best is trial 2 with value: 0.24223979903351264.\n"
     ]
    },
    {
     "name": "stderr",
     "output_type": "stream",
     "text": [
      "Best trial: 2. Best value: 0.24224:  25%|██▌       | 10/40 [05:10<16:26, 32.88s/it]"
     ]
    },
    {
     "name": "stdout",
     "output_type": "stream",
     "text": [
      "[I 2025-08-22 15:07:15,986] Trial 9 finished with value: 0.12778706659144767 and parameters: {'n_estimators': 42, 'max_depth': 2, 'learning_rate': 0.5625421965960294}. Best is trial 2 with value: 0.24223979903351264.\n"
     ]
    },
    {
     "name": "stderr",
     "output_type": "stream",
     "text": [
      "Best trial: 2. Best value: 0.24224:  28%|██▊       | 11/40 [07:08<28:26, 58.86s/it]"
     ]
    },
    {
     "name": "stdout",
     "output_type": "stream",
     "text": [
      "[I 2025-08-22 15:09:13,757] Trial 10 finished with value: 0.20136080664370404 and parameters: {'n_estimators': 321, 'max_depth': 10, 'learning_rate': 0.9108423405944163}. Best is trial 2 with value: 0.24223979903351264.\n"
     ]
    },
    {
     "name": "stderr",
     "output_type": "stream",
     "text": [
      "Best trial: 2. Best value: 0.24224:  30%|███       | 12/40 [08:04<27:00, 57.86s/it]"
     ]
    },
    {
     "name": "stdout",
     "output_type": "stream",
     "text": [
      "[I 2025-08-22 15:10:09,328] Trial 11 finished with value: 0.15572811368633152 and parameters: {'n_estimators': 308, 'max_depth': 5, 'learning_rate': 0.973245081284498}. Best is trial 2 with value: 0.24223979903351264.\n"
     ]
    },
    {
     "name": "stderr",
     "output_type": "stream",
     "text": [
      "Best trial: 2. Best value: 0.24224:  32%|███▎      | 13/40 [09:17<28:08, 62.55s/it]"
     ]
    },
    {
     "name": "stdout",
     "output_type": "stream",
     "text": [
      "[I 2025-08-22 15:11:22,673] Trial 12 finished with value: 0.20516635668349578 and parameters: {'n_estimators': 201, 'max_depth': 10, 'learning_rate': 0.8417562625285573}. Best is trial 2 with value: 0.24223979903351264.\n"
     ]
    },
    {
     "name": "stderr",
     "output_type": "stream",
     "text": [
      "Best trial: 2. Best value: 0.24224:  35%|███▌      | 14/40 [10:30<28:28, 65.72s/it]"
     ]
    },
    {
     "name": "stdout",
     "output_type": "stream",
     "text": [
      "[I 2025-08-22 15:12:35,721] Trial 13 finished with value: 0.20597036350790168 and parameters: {'n_estimators': 201, 'max_depth': 10, 'learning_rate': 0.7994271290593364}. Best is trial 2 with value: 0.24223979903351264.\n"
     ]
    },
    {
     "name": "stderr",
     "output_type": "stream",
     "text": [
      "Best trial: 2. Best value: 0.24224:  38%|███▊      | 15/40 [11:57<30:03, 72.15s/it]"
     ]
    },
    {
     "name": "stdout",
     "output_type": "stream",
     "text": [
      "[I 2025-08-22 15:14:02,774] Trial 14 finished with value: 0.19204766881691582 and parameters: {'n_estimators': 486, 'max_depth': 5, 'learning_rate': 0.7959281421208413}. Best is trial 2 with value: 0.24223979903351264.\n"
     ]
    },
    {
     "name": "stderr",
     "output_type": "stream",
     "text": [
      "Best trial: 2. Best value: 0.24224:  40%|████      | 16/40 [12:34<24:34, 61.42s/it]"
     ]
    },
    {
     "name": "stdout",
     "output_type": "stream",
     "text": [
      "[I 2025-08-22 15:14:39,275] Trial 15 finished with value: 0.16587939523639939 and parameters: {'n_estimators': 199, 'max_depth': 5, 'learning_rate': 0.40446518636348133}. Best is trial 2 with value: 0.24223979903351264.\n"
     ]
    },
    {
     "name": "stderr",
     "output_type": "stream",
     "text": [
      "Best trial: 2. Best value: 0.24224:  42%|████▎     | 17/40 [13:16<21:19, 55.64s/it]"
     ]
    },
    {
     "name": "stdout",
     "output_type": "stream",
     "text": [
      "[I 2025-08-22 15:15:21,470] Trial 16 finished with value: 0.2012781364019006 and parameters: {'n_estimators': 132, 'max_depth': 9, 'learning_rate': 0.7140674138818207}. Best is trial 2 with value: 0.24223979903351264.\n"
     ]
    },
    {
     "name": "stderr",
     "output_type": "stream",
     "text": [
      "Best trial: 2. Best value: 0.24224:  45%|████▌     | 18/40 [14:36<23:09, 63.16s/it]"
     ]
    },
    {
     "name": "stdout",
     "output_type": "stream",
     "text": [
      "[I 2025-08-22 15:16:42,133] Trial 17 finished with value: 0.19458698462079616 and parameters: {'n_estimators': 381, 'max_depth': 6, 'learning_rate': 0.8617682711712138}. Best is trial 2 with value: 0.24223979903351264.\n"
     ]
    },
    {
     "name": "stderr",
     "output_type": "stream",
     "text": [
      "Best trial: 18. Best value: 0.330676:  48%|████▊     | 19/40 [15:14<19:22, 55.35s/it]"
     ]
    },
    {
     "name": "stdout",
     "output_type": "stream",
     "text": [
      "[I 2025-08-22 15:17:19,282] Trial 18 finished with value: 0.3306758868878951 and parameters: {'n_estimators': 259, 'max_depth': 4, 'learning_rate': 0.9939270897472168}. Best is trial 18 with value: 0.3306758868878951.\n"
     ]
    },
    {
     "name": "stderr",
     "output_type": "stream",
     "text": [
      "Best trial: 18. Best value: 0.330676:  50%|█████     | 20/40 [15:52<16:43, 50.17s/it]"
     ]
    },
    {
     "name": "stdout",
     "output_type": "stream",
     "text": [
      "[I 2025-08-22 15:17:57,395] Trial 19 finished with value: 0.2623450543801059 and parameters: {'n_estimators': 265, 'max_depth': 4, 'learning_rate': 0.9935313327217242}. Best is trial 18 with value: 0.3306758868878951.\n"
     ]
    },
    {
     "name": "stderr",
     "output_type": "stream",
     "text": [
      "Best trial: 18. Best value: 0.330676:  52%|█████▎    | 21/40 [16:29<14:38, 46.23s/it]"
     ]
    },
    {
     "name": "stdout",
     "output_type": "stream",
     "text": [
      "[I 2025-08-22 15:18:34,444] Trial 20 finished with value: 0.11490082509095186 and parameters: {'n_estimators': 250, 'max_depth': 4, 'learning_rate': 0.03809624923933097}. Best is trial 18 with value: 0.3306758868878951.\n"
     ]
    },
    {
     "name": "stderr",
     "output_type": "stream",
     "text": [
      "Best trial: 18. Best value: 0.330676:  55%|█████▌    | 22/40 [17:19<14:14, 47.46s/it]"
     ]
    },
    {
     "name": "stdout",
     "output_type": "stream",
     "text": [
      "[I 2025-08-22 15:19:24,757] Trial 21 finished with value: 0.15149156993868704 and parameters: {'n_estimators': 350, 'max_depth': 4, 'learning_rate': 0.968977890627949}. Best is trial 18 with value: 0.3306758868878951.\n"
     ]
    },
    {
     "name": "stderr",
     "output_type": "stream",
     "text": [
      "Best trial: 22. Best value: 0.35466:  57%|█████▊    | 23/40 [17:59<12:47, 45.17s/it] "
     ]
    },
    {
     "name": "stdout",
     "output_type": "stream",
     "text": [
      "[I 2025-08-22 15:20:04,586] Trial 22 finished with value: 0.3546596914147786 and parameters: {'n_estimators': 269, 'max_depth': 4, 'learning_rate': 0.9873529639097314}. Best is trial 22 with value: 0.3546596914147786.\n"
     ]
    },
    {
     "name": "stderr",
     "output_type": "stream",
     "text": [
      "Best trial: 22. Best value: 0.35466:  60%|██████    | 24/40 [18:37<11:29, 43.09s/it]"
     ]
    },
    {
     "name": "stdout",
     "output_type": "stream",
     "text": [
      "[I 2025-08-22 15:20:42,826] Trial 23 finished with value: 0.16490718195757367 and parameters: {'n_estimators': 257, 'max_depth': 4, 'learning_rate': 0.8829195395044012}. Best is trial 22 with value: 0.3546596914147786.\n"
     ]
    },
    {
     "name": "stderr",
     "output_type": "stream",
     "text": [
      "Best trial: 22. Best value: 0.35466:  62%|██████▎   | 25/40 [19:14<10:16, 41.10s/it]"
     ]
    },
    {
     "name": "stdout",
     "output_type": "stream",
     "text": [
      "[I 2025-08-22 15:21:19,283] Trial 24 finished with value: 0.3307501500926835 and parameters: {'n_estimators': 252, 'max_depth': 4, 'learning_rate': 0.9982039771958569}. Best is trial 22 with value: 0.3546596914147786.\n"
     ]
    },
    {
     "name": "stderr",
     "output_type": "stream",
     "text": [
      "Best trial: 22. Best value: 0.35466:  65%|██████▌   | 26/40 [19:29<07:47, 33.42s/it]"
     ]
    },
    {
     "name": "stdout",
     "output_type": "stream",
     "text": [
      "[I 2025-08-22 15:21:34,775] Trial 25 finished with value: 0.1375496597911318 and parameters: {'n_estimators': 141, 'max_depth': 3, 'learning_rate': 0.6954425651314162}. Best is trial 22 with value: 0.3546596914147786.\n"
     ]
    },
    {
     "name": "stderr",
     "output_type": "stream",
     "text": [
      "Best trial: 22. Best value: 0.35466:  68%|██████▊   | 27/40 [19:47<06:14, 28.80s/it]"
     ]
    },
    {
     "name": "stdout",
     "output_type": "stream",
     "text": [
      "[I 2025-08-22 15:21:52,798] Trial 26 finished with value: 0.1373246261409187 and parameters: {'n_estimators': 239, 'max_depth': 2, 'learning_rate': 0.8791330177841732}. Best is trial 22 with value: 0.3546596914147786.\n"
     ]
    },
    {
     "name": "stderr",
     "output_type": "stream",
     "text": [
      "Best trial: 22. Best value: 0.35466:  70%|███████   | 28/40 [21:03<08:36, 43.00s/it]"
     ]
    },
    {
     "name": "stdout",
     "output_type": "stream",
     "text": [
      "[I 2025-08-22 15:23:08,948] Trial 27 finished with value: 0.19419714772892818 and parameters: {'n_estimators': 305, 'max_depth': 7, 'learning_rate': 0.4556212975657499}. Best is trial 22 with value: 0.3546596914147786.\n"
     ]
    },
    {
     "name": "stderr",
     "output_type": "stream",
     "text": [
      "Best trial: 22. Best value: 0.35466:  72%|███████▎  | 29/40 [21:35<07:17, 39.77s/it]"
     ]
    },
    {
     "name": "stdout",
     "output_type": "stream",
     "text": [
      "[I 2025-08-22 15:23:41,180] Trial 28 finished with value: 0.128928517709195 and parameters: {'n_estimators': 223, 'max_depth': 4, 'learning_rate': 0.21478108708271387}. Best is trial 22 with value: 0.3546596914147786.\n"
     ]
    },
    {
     "name": "stderr",
     "output_type": "stream",
     "text": [
      "Best trial: 22. Best value: 0.35466:  75%|███████▌  | 30/40 [21:55<05:38, 33.82s/it]"
     ]
    },
    {
     "name": "stdout",
     "output_type": "stream",
     "text": [
      "[I 2025-08-22 15:24:01,116] Trial 29 finished with value: 0.17949329197274144 and parameters: {'n_estimators': 93, 'max_depth': 6, 'learning_rate': 0.7829008231803357}. Best is trial 22 with value: 0.3546596914147786.\n"
     ]
    },
    {
     "name": "stderr",
     "output_type": "stream",
     "text": [
      "Best trial: 22. Best value: 0.35466:  78%|███████▊  | 31/40 [23:08<06:49, 45.52s/it]"
     ]
    },
    {
     "name": "stdout",
     "output_type": "stream",
     "text": [
      "[I 2025-08-22 15:25:13,938] Trial 30 finished with value: 0.2030598982008999 and parameters: {'n_estimators': 340, 'max_depth': 6, 'learning_rate': 0.9095471142403315}. Best is trial 22 with value: 0.3546596914147786.\n"
     ]
    },
    {
     "name": "stderr",
     "output_type": "stream",
     "text": [
      "Best trial: 22. Best value: 0.35466:  80%|████████  | 32/40 [23:47<05:48, 43.60s/it]"
     ]
    },
    {
     "name": "stdout",
     "output_type": "stream",
     "text": [
      "[I 2025-08-22 15:25:53,057] Trial 31 finished with value: 0.3294885912918451 and parameters: {'n_estimators': 269, 'max_depth': 4, 'learning_rate': 0.9983635154171334}. Best is trial 22 with value: 0.3546596914147786.\n"
     ]
    },
    {
     "name": "stderr",
     "output_type": "stream",
     "text": [
      "Best trial: 22. Best value: 0.35466:  82%|████████▎ | 33/40 [24:18<04:39, 39.86s/it]"
     ]
    },
    {
     "name": "stdout",
     "output_type": "stream",
     "text": [
      "[I 2025-08-22 15:26:24,188] Trial 32 finished with value: 0.1680923621196897 and parameters: {'n_estimators': 282, 'max_depth': 3, 'learning_rate': 0.9871308936525786}. Best is trial 22 with value: 0.3546596914147786.\n"
     ]
    },
    {
     "name": "stderr",
     "output_type": "stream",
     "text": [
      "Best trial: 22. Best value: 0.35466:  85%|████████▌ | 34/40 [24:51<03:45, 37.54s/it]"
     ]
    },
    {
     "name": "stdout",
     "output_type": "stream",
     "text": [
      "[I 2025-08-22 15:26:56,315] Trial 33 finished with value: 0.24022506883769545 and parameters: {'n_estimators': 178, 'max_depth': 5, 'learning_rate': 0.9302147796439589}. Best is trial 22 with value: 0.3546596914147786.\n"
     ]
    },
    {
     "name": "stderr",
     "output_type": "stream",
     "text": [
      "Best trial: 22. Best value: 0.35466:  88%|████████▊ | 35/40 [25:24<03:01, 36.22s/it]"
     ]
    },
    {
     "name": "stdout",
     "output_type": "stream",
     "text": [
      "[I 2025-08-22 15:27:29,456] Trial 34 finished with value: 0.1737760863632626 and parameters: {'n_estimators': 228, 'max_depth': 4, 'learning_rate': 0.8254058376770421}. Best is trial 22 with value: 0.3546596914147786.\n"
     ]
    },
    {
     "name": "stderr",
     "output_type": "stream",
     "text": [
      "Best trial: 22. Best value: 0.35466:  90%|█████████ | 36/40 [26:15<02:43, 40.80s/it]"
     ]
    },
    {
     "name": "stdout",
     "output_type": "stream",
     "text": [
      "[I 2025-08-22 15:28:20,941] Trial 35 finished with value: 0.1788161927164855 and parameters: {'n_estimators': 280, 'max_depth': 5, 'learning_rate': 0.6361588924782048}. Best is trial 22 with value: 0.3546596914147786.\n"
     ]
    },
    {
     "name": "stderr",
     "output_type": "stream",
     "text": [
      "Best trial: 22. Best value: 0.35466:  92%|█████████▎| 37/40 [26:52<01:59, 39.69s/it]"
     ]
    },
    {
     "name": "stdout",
     "output_type": "stream",
     "text": [
      "[I 2025-08-22 15:28:58,036] Trial 36 finished with value: 0.16975989327790897 and parameters: {'n_estimators': 336, 'max_depth': 3, 'learning_rate': 0.9962220911234871}. Best is trial 22 with value: 0.3546596914147786.\n"
     ]
    },
    {
     "name": "stderr",
     "output_type": "stream",
     "text": [
      "Best trial: 22. Best value: 0.35466:  95%|█████████▌| 38/40 [27:24<01:14, 37.21s/it]"
     ]
    },
    {
     "name": "stdout",
     "output_type": "stream",
     "text": [
      "[I 2025-08-22 15:29:29,469] Trial 37 finished with value: 0.15165676443346965 and parameters: {'n_estimators': 412, 'max_depth': 2, 'learning_rate': 0.9195926045780289}. Best is trial 22 with value: 0.3546596914147786.\n"
     ]
    },
    {
     "name": "stderr",
     "output_type": "stream",
     "text": [
      "Best trial: 22. Best value: 0.35466:  98%|█████████▊| 39/40 [27:56<00:35, 35.88s/it]"
     ]
    },
    {
     "name": "stdout",
     "output_type": "stream",
     "text": [
      "[I 2025-08-22 15:30:02,225] Trial 38 finished with value: 0.15816518334664947 and parameters: {'n_estimators': 294, 'max_depth': 3, 'learning_rate': 0.745930143496941}. Best is trial 22 with value: 0.3546596914147786.\n"
     ]
    },
    {
     "name": "stderr",
     "output_type": "stream",
     "text": [
      "Best trial: 22. Best value: 0.35466: 100%|██████████| 40/40 [28:31<00:00, 42.78s/it]"
     ]
    },
    {
     "name": "stdout",
     "output_type": "stream",
     "text": [
      "[I 2025-08-22 15:30:36,536] Trial 39 finished with value: 0.15836972043344508 and parameters: {'n_estimators': 137, 'max_depth': 7, 'learning_rate': 0.2044964003401467}. Best is trial 22 with value: 0.3546596914147786.\n"
     ]
    },
    {
     "name": "stderr",
     "output_type": "stream",
     "text": [
      "\n"
     ]
    }
   ],
   "source": [
    "study_gradient = optuna.create_study(direction='maximize')\n",
    "study_gradient.optimize(gradient_objective, n_trials=40, show_progress_bar=True)\n",
    "\n",
    "score_gradient = study_gradient.best_value"
   ]
  },
  {
   "cell_type": "code",
   "execution_count": null,
   "id": "34d0f19d",
   "metadata": {},
   "outputs": [],
   "source": [
    "sv = SVC(class_weight='balanced', kernel='linear')\n",
    "\n",
    "score_sv = cross_val_score(sv, X_train_scaled, y_train, cv=3, scoring='f1').mean()"
   ]
  },
  {
   "cell_type": "code",
   "execution_count": 40,
   "id": "5cfd0ebc",
   "metadata": {},
   "outputs": [],
   "source": [
    "knn = KNeighborsClassifier()\n",
    "\n",
    "params = {'n_neighbors': np.arange(2, 20)}\n",
    "gs = GridSearchCV(knn, params, cv=3, scoring='f1')\n",
    "\n",
    "gs.fit(X_train_scaled, y_train)\n",
    "\n",
    "knn = gs.best_estimator_"
   ]
  },
  {
   "cell_type": "code",
   "execution_count": null,
   "id": "12b193f4",
   "metadata": {},
   "outputs": [],
   "source": [
    "score_knn = cross_val_score(knn, X_train_scaled, y_train, cv=3, scoring='f1').mean()"
   ]
  },
  {
   "cell_type": "code",
   "execution_count": 65,
   "id": "1c1c4c6f",
   "metadata": {},
   "outputs": [
    {
     "name": "stdout",
     "output_type": "stream",
     "text": [
      "Gradient Boosting: 0.35466\n",
      "Logistic Regression: 0.33405277348242013\n",
      "Support Vector: 0.3330587507547422\n",
      "KNN: 0.15878918615453852\n",
      "Random Forest: 0.0782462\n"
     ]
    }
   ],
   "source": [
    "scores = {'Logistic Regression': score_linear, 'Random Forest': score_forest, 'Gradient Boosting': score_gradient, 'Support Vector': score_sv, 'KNN': score_knn}\n",
    "\n",
    "scores = dict(sorted(scores.items(), key=lambda x: x[1], reverse=True))\n",
    "\n",
    "for metric, score in scores.items():\n",
    "    print(f'{metric}: {score}')"
   ]
  },
  {
   "cell_type": "markdown",
   "id": "7f26873f",
   "metadata": {},
   "source": [
    "Наилучший результат показывает градиентный бустинг"
   ]
  },
  {
   "cell_type": "code",
   "execution_count": 69,
   "id": "2c2800b4",
   "metadata": {},
   "outputs": [
    {
     "data": {
      "text/html": [
       "<style>#sk-container-id-1 {\n",
       "  /* Definition of color scheme common for light and dark mode */\n",
       "  --sklearn-color-text: #000;\n",
       "  --sklearn-color-text-muted: #666;\n",
       "  --sklearn-color-line: gray;\n",
       "  /* Definition of color scheme for unfitted estimators */\n",
       "  --sklearn-color-unfitted-level-0: #fff5e6;\n",
       "  --sklearn-color-unfitted-level-1: #f6e4d2;\n",
       "  --sklearn-color-unfitted-level-2: #ffe0b3;\n",
       "  --sklearn-color-unfitted-level-3: chocolate;\n",
       "  /* Definition of color scheme for fitted estimators */\n",
       "  --sklearn-color-fitted-level-0: #f0f8ff;\n",
       "  --sklearn-color-fitted-level-1: #d4ebff;\n",
       "  --sklearn-color-fitted-level-2: #b3dbfd;\n",
       "  --sklearn-color-fitted-level-3: cornflowerblue;\n",
       "\n",
       "  /* Specific color for light theme */\n",
       "  --sklearn-color-text-on-default-background: var(--sg-text-color, var(--theme-code-foreground, var(--jp-content-font-color1, black)));\n",
       "  --sklearn-color-background: var(--sg-background-color, var(--theme-background, var(--jp-layout-color0, white)));\n",
       "  --sklearn-color-border-box: var(--sg-text-color, var(--theme-code-foreground, var(--jp-content-font-color1, black)));\n",
       "  --sklearn-color-icon: #696969;\n",
       "\n",
       "  @media (prefers-color-scheme: dark) {\n",
       "    /* Redefinition of color scheme for dark theme */\n",
       "    --sklearn-color-text-on-default-background: var(--sg-text-color, var(--theme-code-foreground, var(--jp-content-font-color1, white)));\n",
       "    --sklearn-color-background: var(--sg-background-color, var(--theme-background, var(--jp-layout-color0, #111)));\n",
       "    --sklearn-color-border-box: var(--sg-text-color, var(--theme-code-foreground, var(--jp-content-font-color1, white)));\n",
       "    --sklearn-color-icon: #878787;\n",
       "  }\n",
       "}\n",
       "\n",
       "#sk-container-id-1 {\n",
       "  color: var(--sklearn-color-text);\n",
       "}\n",
       "\n",
       "#sk-container-id-1 pre {\n",
       "  padding: 0;\n",
       "}\n",
       "\n",
       "#sk-container-id-1 input.sk-hidden--visually {\n",
       "  border: 0;\n",
       "  clip: rect(1px 1px 1px 1px);\n",
       "  clip: rect(1px, 1px, 1px, 1px);\n",
       "  height: 1px;\n",
       "  margin: -1px;\n",
       "  overflow: hidden;\n",
       "  padding: 0;\n",
       "  position: absolute;\n",
       "  width: 1px;\n",
       "}\n",
       "\n",
       "#sk-container-id-1 div.sk-dashed-wrapped {\n",
       "  border: 1px dashed var(--sklearn-color-line);\n",
       "  margin: 0 0.4em 0.5em 0.4em;\n",
       "  box-sizing: border-box;\n",
       "  padding-bottom: 0.4em;\n",
       "  background-color: var(--sklearn-color-background);\n",
       "}\n",
       "\n",
       "#sk-container-id-1 div.sk-container {\n",
       "  /* jupyter's `normalize.less` sets `[hidden] { display: none; }`\n",
       "     but bootstrap.min.css set `[hidden] { display: none !important; }`\n",
       "     so we also need the `!important` here to be able to override the\n",
       "     default hidden behavior on the sphinx rendered scikit-learn.org.\n",
       "     See: https://github.com/scikit-learn/scikit-learn/issues/21755 */\n",
       "  display: inline-block !important;\n",
       "  position: relative;\n",
       "}\n",
       "\n",
       "#sk-container-id-1 div.sk-text-repr-fallback {\n",
       "  display: none;\n",
       "}\n",
       "\n",
       "div.sk-parallel-item,\n",
       "div.sk-serial,\n",
       "div.sk-item {\n",
       "  /* draw centered vertical line to link estimators */\n",
       "  background-image: linear-gradient(var(--sklearn-color-text-on-default-background), var(--sklearn-color-text-on-default-background));\n",
       "  background-size: 2px 100%;\n",
       "  background-repeat: no-repeat;\n",
       "  background-position: center center;\n",
       "}\n",
       "\n",
       "/* Parallel-specific style estimator block */\n",
       "\n",
       "#sk-container-id-1 div.sk-parallel-item::after {\n",
       "  content: \"\";\n",
       "  width: 100%;\n",
       "  border-bottom: 2px solid var(--sklearn-color-text-on-default-background);\n",
       "  flex-grow: 1;\n",
       "}\n",
       "\n",
       "#sk-container-id-1 div.sk-parallel {\n",
       "  display: flex;\n",
       "  align-items: stretch;\n",
       "  justify-content: center;\n",
       "  background-color: var(--sklearn-color-background);\n",
       "  position: relative;\n",
       "}\n",
       "\n",
       "#sk-container-id-1 div.sk-parallel-item {\n",
       "  display: flex;\n",
       "  flex-direction: column;\n",
       "}\n",
       "\n",
       "#sk-container-id-1 div.sk-parallel-item:first-child::after {\n",
       "  align-self: flex-end;\n",
       "  width: 50%;\n",
       "}\n",
       "\n",
       "#sk-container-id-1 div.sk-parallel-item:last-child::after {\n",
       "  align-self: flex-start;\n",
       "  width: 50%;\n",
       "}\n",
       "\n",
       "#sk-container-id-1 div.sk-parallel-item:only-child::after {\n",
       "  width: 0;\n",
       "}\n",
       "\n",
       "/* Serial-specific style estimator block */\n",
       "\n",
       "#sk-container-id-1 div.sk-serial {\n",
       "  display: flex;\n",
       "  flex-direction: column;\n",
       "  align-items: center;\n",
       "  background-color: var(--sklearn-color-background);\n",
       "  padding-right: 1em;\n",
       "  padding-left: 1em;\n",
       "}\n",
       "\n",
       "\n",
       "/* Toggleable style: style used for estimator/Pipeline/ColumnTransformer box that is\n",
       "clickable and can be expanded/collapsed.\n",
       "- Pipeline and ColumnTransformer use this feature and define the default style\n",
       "- Estimators will overwrite some part of the style using the `sk-estimator` class\n",
       "*/\n",
       "\n",
       "/* Pipeline and ColumnTransformer style (default) */\n",
       "\n",
       "#sk-container-id-1 div.sk-toggleable {\n",
       "  /* Default theme specific background. It is overwritten whether we have a\n",
       "  specific estimator or a Pipeline/ColumnTransformer */\n",
       "  background-color: var(--sklearn-color-background);\n",
       "}\n",
       "\n",
       "/* Toggleable label */\n",
       "#sk-container-id-1 label.sk-toggleable__label {\n",
       "  cursor: pointer;\n",
       "  display: flex;\n",
       "  width: 100%;\n",
       "  margin-bottom: 0;\n",
       "  padding: 0.5em;\n",
       "  box-sizing: border-box;\n",
       "  text-align: center;\n",
       "  align-items: start;\n",
       "  justify-content: space-between;\n",
       "  gap: 0.5em;\n",
       "}\n",
       "\n",
       "#sk-container-id-1 label.sk-toggleable__label .caption {\n",
       "  font-size: 0.6rem;\n",
       "  font-weight: lighter;\n",
       "  color: var(--sklearn-color-text-muted);\n",
       "}\n",
       "\n",
       "#sk-container-id-1 label.sk-toggleable__label-arrow:before {\n",
       "  /* Arrow on the left of the label */\n",
       "  content: \"▸\";\n",
       "  float: left;\n",
       "  margin-right: 0.25em;\n",
       "  color: var(--sklearn-color-icon);\n",
       "}\n",
       "\n",
       "#sk-container-id-1 label.sk-toggleable__label-arrow:hover:before {\n",
       "  color: var(--sklearn-color-text);\n",
       "}\n",
       "\n",
       "/* Toggleable content - dropdown */\n",
       "\n",
       "#sk-container-id-1 div.sk-toggleable__content {\n",
       "  display: none;\n",
       "  text-align: left;\n",
       "  /* unfitted */\n",
       "  background-color: var(--sklearn-color-unfitted-level-0);\n",
       "}\n",
       "\n",
       "#sk-container-id-1 div.sk-toggleable__content.fitted {\n",
       "  /* fitted */\n",
       "  background-color: var(--sklearn-color-fitted-level-0);\n",
       "}\n",
       "\n",
       "#sk-container-id-1 div.sk-toggleable__content pre {\n",
       "  margin: 0.2em;\n",
       "  border-radius: 0.25em;\n",
       "  color: var(--sklearn-color-text);\n",
       "  /* unfitted */\n",
       "  background-color: var(--sklearn-color-unfitted-level-0);\n",
       "}\n",
       "\n",
       "#sk-container-id-1 div.sk-toggleable__content.fitted pre {\n",
       "  /* unfitted */\n",
       "  background-color: var(--sklearn-color-fitted-level-0);\n",
       "}\n",
       "\n",
       "#sk-container-id-1 input.sk-toggleable__control:checked~div.sk-toggleable__content {\n",
       "  /* Expand drop-down */\n",
       "  display: block;\n",
       "  width: 100%;\n",
       "  overflow: visible;\n",
       "}\n",
       "\n",
       "#sk-container-id-1 input.sk-toggleable__control:checked~label.sk-toggleable__label-arrow:before {\n",
       "  content: \"▾\";\n",
       "}\n",
       "\n",
       "/* Pipeline/ColumnTransformer-specific style */\n",
       "\n",
       "#sk-container-id-1 div.sk-label input.sk-toggleable__control:checked~label.sk-toggleable__label {\n",
       "  color: var(--sklearn-color-text);\n",
       "  background-color: var(--sklearn-color-unfitted-level-2);\n",
       "}\n",
       "\n",
       "#sk-container-id-1 div.sk-label.fitted input.sk-toggleable__control:checked~label.sk-toggleable__label {\n",
       "  background-color: var(--sklearn-color-fitted-level-2);\n",
       "}\n",
       "\n",
       "/* Estimator-specific style */\n",
       "\n",
       "/* Colorize estimator box */\n",
       "#sk-container-id-1 div.sk-estimator input.sk-toggleable__control:checked~label.sk-toggleable__label {\n",
       "  /* unfitted */\n",
       "  background-color: var(--sklearn-color-unfitted-level-2);\n",
       "}\n",
       "\n",
       "#sk-container-id-1 div.sk-estimator.fitted input.sk-toggleable__control:checked~label.sk-toggleable__label {\n",
       "  /* fitted */\n",
       "  background-color: var(--sklearn-color-fitted-level-2);\n",
       "}\n",
       "\n",
       "#sk-container-id-1 div.sk-label label.sk-toggleable__label,\n",
       "#sk-container-id-1 div.sk-label label {\n",
       "  /* The background is the default theme color */\n",
       "  color: var(--sklearn-color-text-on-default-background);\n",
       "}\n",
       "\n",
       "/* On hover, darken the color of the background */\n",
       "#sk-container-id-1 div.sk-label:hover label.sk-toggleable__label {\n",
       "  color: var(--sklearn-color-text);\n",
       "  background-color: var(--sklearn-color-unfitted-level-2);\n",
       "}\n",
       "\n",
       "/* Label box, darken color on hover, fitted */\n",
       "#sk-container-id-1 div.sk-label.fitted:hover label.sk-toggleable__label.fitted {\n",
       "  color: var(--sklearn-color-text);\n",
       "  background-color: var(--sklearn-color-fitted-level-2);\n",
       "}\n",
       "\n",
       "/* Estimator label */\n",
       "\n",
       "#sk-container-id-1 div.sk-label label {\n",
       "  font-family: monospace;\n",
       "  font-weight: bold;\n",
       "  display: inline-block;\n",
       "  line-height: 1.2em;\n",
       "}\n",
       "\n",
       "#sk-container-id-1 div.sk-label-container {\n",
       "  text-align: center;\n",
       "}\n",
       "\n",
       "/* Estimator-specific */\n",
       "#sk-container-id-1 div.sk-estimator {\n",
       "  font-family: monospace;\n",
       "  border: 1px dotted var(--sklearn-color-border-box);\n",
       "  border-radius: 0.25em;\n",
       "  box-sizing: border-box;\n",
       "  margin-bottom: 0.5em;\n",
       "  /* unfitted */\n",
       "  background-color: var(--sklearn-color-unfitted-level-0);\n",
       "}\n",
       "\n",
       "#sk-container-id-1 div.sk-estimator.fitted {\n",
       "  /* fitted */\n",
       "  background-color: var(--sklearn-color-fitted-level-0);\n",
       "}\n",
       "\n",
       "/* on hover */\n",
       "#sk-container-id-1 div.sk-estimator:hover {\n",
       "  /* unfitted */\n",
       "  background-color: var(--sklearn-color-unfitted-level-2);\n",
       "}\n",
       "\n",
       "#sk-container-id-1 div.sk-estimator.fitted:hover {\n",
       "  /* fitted */\n",
       "  background-color: var(--sklearn-color-fitted-level-2);\n",
       "}\n",
       "\n",
       "/* Specification for estimator info (e.g. \"i\" and \"?\") */\n",
       "\n",
       "/* Common style for \"i\" and \"?\" */\n",
       "\n",
       ".sk-estimator-doc-link,\n",
       "a:link.sk-estimator-doc-link,\n",
       "a:visited.sk-estimator-doc-link {\n",
       "  float: right;\n",
       "  font-size: smaller;\n",
       "  line-height: 1em;\n",
       "  font-family: monospace;\n",
       "  background-color: var(--sklearn-color-background);\n",
       "  border-radius: 1em;\n",
       "  height: 1em;\n",
       "  width: 1em;\n",
       "  text-decoration: none !important;\n",
       "  margin-left: 0.5em;\n",
       "  text-align: center;\n",
       "  /* unfitted */\n",
       "  border: var(--sklearn-color-unfitted-level-1) 1pt solid;\n",
       "  color: var(--sklearn-color-unfitted-level-1);\n",
       "}\n",
       "\n",
       ".sk-estimator-doc-link.fitted,\n",
       "a:link.sk-estimator-doc-link.fitted,\n",
       "a:visited.sk-estimator-doc-link.fitted {\n",
       "  /* fitted */\n",
       "  border: var(--sklearn-color-fitted-level-1) 1pt solid;\n",
       "  color: var(--sklearn-color-fitted-level-1);\n",
       "}\n",
       "\n",
       "/* On hover */\n",
       "div.sk-estimator:hover .sk-estimator-doc-link:hover,\n",
       ".sk-estimator-doc-link:hover,\n",
       "div.sk-label-container:hover .sk-estimator-doc-link:hover,\n",
       ".sk-estimator-doc-link:hover {\n",
       "  /* unfitted */\n",
       "  background-color: var(--sklearn-color-unfitted-level-3);\n",
       "  color: var(--sklearn-color-background);\n",
       "  text-decoration: none;\n",
       "}\n",
       "\n",
       "div.sk-estimator.fitted:hover .sk-estimator-doc-link.fitted:hover,\n",
       ".sk-estimator-doc-link.fitted:hover,\n",
       "div.sk-label-container:hover .sk-estimator-doc-link.fitted:hover,\n",
       ".sk-estimator-doc-link.fitted:hover {\n",
       "  /* fitted */\n",
       "  background-color: var(--sklearn-color-fitted-level-3);\n",
       "  color: var(--sklearn-color-background);\n",
       "  text-decoration: none;\n",
       "}\n",
       "\n",
       "/* Span, style for the box shown on hovering the info icon */\n",
       ".sk-estimator-doc-link span {\n",
       "  display: none;\n",
       "  z-index: 9999;\n",
       "  position: relative;\n",
       "  font-weight: normal;\n",
       "  right: .2ex;\n",
       "  padding: .5ex;\n",
       "  margin: .5ex;\n",
       "  width: min-content;\n",
       "  min-width: 20ex;\n",
       "  max-width: 50ex;\n",
       "  color: var(--sklearn-color-text);\n",
       "  box-shadow: 2pt 2pt 4pt #999;\n",
       "  /* unfitted */\n",
       "  background: var(--sklearn-color-unfitted-level-0);\n",
       "  border: .5pt solid var(--sklearn-color-unfitted-level-3);\n",
       "}\n",
       "\n",
       ".sk-estimator-doc-link.fitted span {\n",
       "  /* fitted */\n",
       "  background: var(--sklearn-color-fitted-level-0);\n",
       "  border: var(--sklearn-color-fitted-level-3);\n",
       "}\n",
       "\n",
       ".sk-estimator-doc-link:hover span {\n",
       "  display: block;\n",
       "}\n",
       "\n",
       "/* \"?\"-specific style due to the `<a>` HTML tag */\n",
       "\n",
       "#sk-container-id-1 a.estimator_doc_link {\n",
       "  float: right;\n",
       "  font-size: 1rem;\n",
       "  line-height: 1em;\n",
       "  font-family: monospace;\n",
       "  background-color: var(--sklearn-color-background);\n",
       "  border-radius: 1rem;\n",
       "  height: 1rem;\n",
       "  width: 1rem;\n",
       "  text-decoration: none;\n",
       "  /* unfitted */\n",
       "  color: var(--sklearn-color-unfitted-level-1);\n",
       "  border: var(--sklearn-color-unfitted-level-1) 1pt solid;\n",
       "}\n",
       "\n",
       "#sk-container-id-1 a.estimator_doc_link.fitted {\n",
       "  /* fitted */\n",
       "  border: var(--sklearn-color-fitted-level-1) 1pt solid;\n",
       "  color: var(--sklearn-color-fitted-level-1);\n",
       "}\n",
       "\n",
       "/* On hover */\n",
       "#sk-container-id-1 a.estimator_doc_link:hover {\n",
       "  /* unfitted */\n",
       "  background-color: var(--sklearn-color-unfitted-level-3);\n",
       "  color: var(--sklearn-color-background);\n",
       "  text-decoration: none;\n",
       "}\n",
       "\n",
       "#sk-container-id-1 a.estimator_doc_link.fitted:hover {\n",
       "  /* fitted */\n",
       "  background-color: var(--sklearn-color-fitted-level-3);\n",
       "}\n",
       "\n",
       ".estimator-table summary {\n",
       "    padding: .5rem;\n",
       "    font-family: monospace;\n",
       "    cursor: pointer;\n",
       "}\n",
       "\n",
       ".estimator-table details[open] {\n",
       "    padding-left: 0.1rem;\n",
       "    padding-right: 0.1rem;\n",
       "    padding-bottom: 0.3rem;\n",
       "}\n",
       "\n",
       ".estimator-table .parameters-table {\n",
       "    margin-left: auto !important;\n",
       "    margin-right: auto !important;\n",
       "}\n",
       "\n",
       ".estimator-table .parameters-table tr:nth-child(odd) {\n",
       "    background-color: #fff;\n",
       "}\n",
       "\n",
       ".estimator-table .parameters-table tr:nth-child(even) {\n",
       "    background-color: #f6f6f6;\n",
       "}\n",
       "\n",
       ".estimator-table .parameters-table tr:hover {\n",
       "    background-color: #e0e0e0;\n",
       "}\n",
       "\n",
       ".estimator-table table td {\n",
       "    border: 1px solid rgba(106, 105, 104, 0.232);\n",
       "}\n",
       "\n",
       ".user-set td {\n",
       "    color:rgb(255, 94, 0);\n",
       "    text-align: left;\n",
       "}\n",
       "\n",
       ".user-set td.value pre {\n",
       "    color:rgb(255, 94, 0) !important;\n",
       "    background-color: transparent !important;\n",
       "}\n",
       "\n",
       ".default td {\n",
       "    color: black;\n",
       "    text-align: left;\n",
       "}\n",
       "\n",
       ".user-set td i,\n",
       ".default td i {\n",
       "    color: black;\n",
       "}\n",
       "\n",
       ".copy-paste-icon {\n",
       "    background-image: url(data:image/svg+xml;base64,PHN2ZyB4bWxucz0iaHR0cDovL3d3dy53My5vcmcvMjAwMC9zdmciIHZpZXdCb3g9IjAgMCA0NDggNTEyIj48IS0tIUZvbnQgQXdlc29tZSBGcmVlIDYuNy4yIGJ5IEBmb250YXdlc29tZSAtIGh0dHBzOi8vZm9udGF3ZXNvbWUuY29tIExpY2Vuc2UgLSBodHRwczovL2ZvbnRhd2Vzb21lLmNvbS9saWNlbnNlL2ZyZWUgQ29weXJpZ2h0IDIwMjUgRm9udGljb25zLCBJbmMuLS0+PHBhdGggZD0iTTIwOCAwTDMzMi4xIDBjMTIuNyAwIDI0LjkgNS4xIDMzLjkgMTQuMWw2Ny45IDY3LjljOSA5IDE0LjEgMjEuMiAxNC4xIDMzLjlMNDQ4IDMzNmMwIDI2LjUtMjEuNSA0OC00OCA0OGwtMTkyIDBjLTI2LjUgMC00OC0yMS41LTQ4LTQ4bDAtMjg4YzAtMjYuNSAyMS41LTQ4IDQ4LTQ4ek00OCAxMjhsODAgMCAwIDY0LTY0IDAgMCAyNTYgMTkyIDAgMC0zMiA2NCAwIDAgNDhjMCAyNi41LTIxLjUgNDgtNDggNDhMNDggNTEyYy0yNi41IDAtNDgtMjEuNS00OC00OEwwIDE3NmMwLTI2LjUgMjEuNS00OCA0OC00OHoiLz48L3N2Zz4=);\n",
       "    background-repeat: no-repeat;\n",
       "    background-size: 14px 14px;\n",
       "    background-position: 0;\n",
       "    display: inline-block;\n",
       "    width: 14px;\n",
       "    height: 14px;\n",
       "    cursor: pointer;\n",
       "}\n",
       "</style><body><div id=\"sk-container-id-1\" class=\"sk-top-container\"><div class=\"sk-text-repr-fallback\"><pre>GradientBoostingClassifier(learning_rate=0.9873529639097314, max_depth=4,\n",
       "                           n_estimators=269, random_state=42)</pre><b>In a Jupyter environment, please rerun this cell to show the HTML representation or trust the notebook. <br />On GitHub, the HTML representation is unable to render, please try loading this page with nbviewer.org.</b></div><div class=\"sk-container\" hidden><div class=\"sk-item\"><div class=\"sk-estimator fitted sk-toggleable\"><input class=\"sk-toggleable__control sk-hidden--visually\" id=\"sk-estimator-id-1\" type=\"checkbox\" checked><label for=\"sk-estimator-id-1\" class=\"sk-toggleable__label fitted sk-toggleable__label-arrow\"><div><div>GradientBoostingClassifier</div></div><div><a class=\"sk-estimator-doc-link fitted\" rel=\"noreferrer\" target=\"_blank\" href=\"https://scikit-learn.org/1.7/modules/generated/sklearn.ensemble.GradientBoostingClassifier.html\">?<span>Documentation for GradientBoostingClassifier</span></a><span class=\"sk-estimator-doc-link fitted\">i<span>Fitted</span></span></div></label><div class=\"sk-toggleable__content fitted\" data-param-prefix=\"\">\n",
       "        <div class=\"estimator-table\">\n",
       "            <details>\n",
       "                <summary>Parameters</summary>\n",
       "                <table class=\"parameters-table\">\n",
       "                  <tbody>\n",
       "                    \n",
       "        <tr class=\"default\">\n",
       "            <td><i class=\"copy-paste-icon\"\n",
       "                 onclick=\"copyToClipboard('loss',\n",
       "                          this.parentElement.nextElementSibling)\"\n",
       "            ></i></td>\n",
       "            <td class=\"param\">loss&nbsp;</td>\n",
       "            <td class=\"value\">&#x27;log_loss&#x27;</td>\n",
       "        </tr>\n",
       "    \n",
       "\n",
       "        <tr class=\"user-set\">\n",
       "            <td><i class=\"copy-paste-icon\"\n",
       "                 onclick=\"copyToClipboard('learning_rate',\n",
       "                          this.parentElement.nextElementSibling)\"\n",
       "            ></i></td>\n",
       "            <td class=\"param\">learning_rate&nbsp;</td>\n",
       "            <td class=\"value\">0.9873529639097314</td>\n",
       "        </tr>\n",
       "    \n",
       "\n",
       "        <tr class=\"user-set\">\n",
       "            <td><i class=\"copy-paste-icon\"\n",
       "                 onclick=\"copyToClipboard('n_estimators',\n",
       "                          this.parentElement.nextElementSibling)\"\n",
       "            ></i></td>\n",
       "            <td class=\"param\">n_estimators&nbsp;</td>\n",
       "            <td class=\"value\">269</td>\n",
       "        </tr>\n",
       "    \n",
       "\n",
       "        <tr class=\"default\">\n",
       "            <td><i class=\"copy-paste-icon\"\n",
       "                 onclick=\"copyToClipboard('subsample',\n",
       "                          this.parentElement.nextElementSibling)\"\n",
       "            ></i></td>\n",
       "            <td class=\"param\">subsample&nbsp;</td>\n",
       "            <td class=\"value\">1.0</td>\n",
       "        </tr>\n",
       "    \n",
       "\n",
       "        <tr class=\"default\">\n",
       "            <td><i class=\"copy-paste-icon\"\n",
       "                 onclick=\"copyToClipboard('criterion',\n",
       "                          this.parentElement.nextElementSibling)\"\n",
       "            ></i></td>\n",
       "            <td class=\"param\">criterion&nbsp;</td>\n",
       "            <td class=\"value\">&#x27;friedman_mse&#x27;</td>\n",
       "        </tr>\n",
       "    \n",
       "\n",
       "        <tr class=\"default\">\n",
       "            <td><i class=\"copy-paste-icon\"\n",
       "                 onclick=\"copyToClipboard('min_samples_split',\n",
       "                          this.parentElement.nextElementSibling)\"\n",
       "            ></i></td>\n",
       "            <td class=\"param\">min_samples_split&nbsp;</td>\n",
       "            <td class=\"value\">2</td>\n",
       "        </tr>\n",
       "    \n",
       "\n",
       "        <tr class=\"default\">\n",
       "            <td><i class=\"copy-paste-icon\"\n",
       "                 onclick=\"copyToClipboard('min_samples_leaf',\n",
       "                          this.parentElement.nextElementSibling)\"\n",
       "            ></i></td>\n",
       "            <td class=\"param\">min_samples_leaf&nbsp;</td>\n",
       "            <td class=\"value\">1</td>\n",
       "        </tr>\n",
       "    \n",
       "\n",
       "        <tr class=\"default\">\n",
       "            <td><i class=\"copy-paste-icon\"\n",
       "                 onclick=\"copyToClipboard('min_weight_fraction_leaf',\n",
       "                          this.parentElement.nextElementSibling)\"\n",
       "            ></i></td>\n",
       "            <td class=\"param\">min_weight_fraction_leaf&nbsp;</td>\n",
       "            <td class=\"value\">0.0</td>\n",
       "        </tr>\n",
       "    \n",
       "\n",
       "        <tr class=\"user-set\">\n",
       "            <td><i class=\"copy-paste-icon\"\n",
       "                 onclick=\"copyToClipboard('max_depth',\n",
       "                          this.parentElement.nextElementSibling)\"\n",
       "            ></i></td>\n",
       "            <td class=\"param\">max_depth&nbsp;</td>\n",
       "            <td class=\"value\">4</td>\n",
       "        </tr>\n",
       "    \n",
       "\n",
       "        <tr class=\"default\">\n",
       "            <td><i class=\"copy-paste-icon\"\n",
       "                 onclick=\"copyToClipboard('min_impurity_decrease',\n",
       "                          this.parentElement.nextElementSibling)\"\n",
       "            ></i></td>\n",
       "            <td class=\"param\">min_impurity_decrease&nbsp;</td>\n",
       "            <td class=\"value\">0.0</td>\n",
       "        </tr>\n",
       "    \n",
       "\n",
       "        <tr class=\"default\">\n",
       "            <td><i class=\"copy-paste-icon\"\n",
       "                 onclick=\"copyToClipboard('init',\n",
       "                          this.parentElement.nextElementSibling)\"\n",
       "            ></i></td>\n",
       "            <td class=\"param\">init&nbsp;</td>\n",
       "            <td class=\"value\">None</td>\n",
       "        </tr>\n",
       "    \n",
       "\n",
       "        <tr class=\"user-set\">\n",
       "            <td><i class=\"copy-paste-icon\"\n",
       "                 onclick=\"copyToClipboard('random_state',\n",
       "                          this.parentElement.nextElementSibling)\"\n",
       "            ></i></td>\n",
       "            <td class=\"param\">random_state&nbsp;</td>\n",
       "            <td class=\"value\">42</td>\n",
       "        </tr>\n",
       "    \n",
       "\n",
       "        <tr class=\"default\">\n",
       "            <td><i class=\"copy-paste-icon\"\n",
       "                 onclick=\"copyToClipboard('max_features',\n",
       "                          this.parentElement.nextElementSibling)\"\n",
       "            ></i></td>\n",
       "            <td class=\"param\">max_features&nbsp;</td>\n",
       "            <td class=\"value\">None</td>\n",
       "        </tr>\n",
       "    \n",
       "\n",
       "        <tr class=\"default\">\n",
       "            <td><i class=\"copy-paste-icon\"\n",
       "                 onclick=\"copyToClipboard('verbose',\n",
       "                          this.parentElement.nextElementSibling)\"\n",
       "            ></i></td>\n",
       "            <td class=\"param\">verbose&nbsp;</td>\n",
       "            <td class=\"value\">0</td>\n",
       "        </tr>\n",
       "    \n",
       "\n",
       "        <tr class=\"default\">\n",
       "            <td><i class=\"copy-paste-icon\"\n",
       "                 onclick=\"copyToClipboard('max_leaf_nodes',\n",
       "                          this.parentElement.nextElementSibling)\"\n",
       "            ></i></td>\n",
       "            <td class=\"param\">max_leaf_nodes&nbsp;</td>\n",
       "            <td class=\"value\">None</td>\n",
       "        </tr>\n",
       "    \n",
       "\n",
       "        <tr class=\"default\">\n",
       "            <td><i class=\"copy-paste-icon\"\n",
       "                 onclick=\"copyToClipboard('warm_start',\n",
       "                          this.parentElement.nextElementSibling)\"\n",
       "            ></i></td>\n",
       "            <td class=\"param\">warm_start&nbsp;</td>\n",
       "            <td class=\"value\">False</td>\n",
       "        </tr>\n",
       "    \n",
       "\n",
       "        <tr class=\"default\">\n",
       "            <td><i class=\"copy-paste-icon\"\n",
       "                 onclick=\"copyToClipboard('validation_fraction',\n",
       "                          this.parentElement.nextElementSibling)\"\n",
       "            ></i></td>\n",
       "            <td class=\"param\">validation_fraction&nbsp;</td>\n",
       "            <td class=\"value\">0.1</td>\n",
       "        </tr>\n",
       "    \n",
       "\n",
       "        <tr class=\"default\">\n",
       "            <td><i class=\"copy-paste-icon\"\n",
       "                 onclick=\"copyToClipboard('n_iter_no_change',\n",
       "                          this.parentElement.nextElementSibling)\"\n",
       "            ></i></td>\n",
       "            <td class=\"param\">n_iter_no_change&nbsp;</td>\n",
       "            <td class=\"value\">None</td>\n",
       "        </tr>\n",
       "    \n",
       "\n",
       "        <tr class=\"default\">\n",
       "            <td><i class=\"copy-paste-icon\"\n",
       "                 onclick=\"copyToClipboard('tol',\n",
       "                          this.parentElement.nextElementSibling)\"\n",
       "            ></i></td>\n",
       "            <td class=\"param\">tol&nbsp;</td>\n",
       "            <td class=\"value\">0.0001</td>\n",
       "        </tr>\n",
       "    \n",
       "\n",
       "        <tr class=\"default\">\n",
       "            <td><i class=\"copy-paste-icon\"\n",
       "                 onclick=\"copyToClipboard('ccp_alpha',\n",
       "                          this.parentElement.nextElementSibling)\"\n",
       "            ></i></td>\n",
       "            <td class=\"param\">ccp_alpha&nbsp;</td>\n",
       "            <td class=\"value\">0.0</td>\n",
       "        </tr>\n",
       "    \n",
       "                  </tbody>\n",
       "                </table>\n",
       "            </details>\n",
       "        </div>\n",
       "    </div></div></div></div></div><script>function copyToClipboard(text, element) {\n",
       "    // Get the parameter prefix from the closest toggleable content\n",
       "    const toggleableContent = element.closest('.sk-toggleable__content');\n",
       "    const paramPrefix = toggleableContent ? toggleableContent.dataset.paramPrefix : '';\n",
       "    const fullParamName = paramPrefix ? `${paramPrefix}${text}` : text;\n",
       "\n",
       "    const originalStyle = element.style;\n",
       "    const computedStyle = window.getComputedStyle(element);\n",
       "    const originalWidth = computedStyle.width;\n",
       "    const originalHTML = element.innerHTML.replace('Copied!', '');\n",
       "\n",
       "    navigator.clipboard.writeText(fullParamName)\n",
       "        .then(() => {\n",
       "            element.style.width = originalWidth;\n",
       "            element.style.color = 'green';\n",
       "            element.innerHTML = \"Copied!\";\n",
       "\n",
       "            setTimeout(() => {\n",
       "                element.innerHTML = originalHTML;\n",
       "                element.style = originalStyle;\n",
       "            }, 2000);\n",
       "        })\n",
       "        .catch(err => {\n",
       "            console.error('Failed to copy:', err);\n",
       "            element.style.color = 'red';\n",
       "            element.innerHTML = \"Failed!\";\n",
       "            setTimeout(() => {\n",
       "                element.innerHTML = originalHTML;\n",
       "                element.style = originalStyle;\n",
       "            }, 2000);\n",
       "        });\n",
       "    return false;\n",
       "}\n",
       "\n",
       "document.querySelectorAll('.fa-regular.fa-copy').forEach(function(element) {\n",
       "    const toggleableContent = element.closest('.sk-toggleable__content');\n",
       "    const paramPrefix = toggleableContent ? toggleableContent.dataset.paramPrefix : '';\n",
       "    const paramName = element.parentElement.nextElementSibling.textContent.trim();\n",
       "    const fullParamName = paramPrefix ? `${paramPrefix}${paramName}` : paramName;\n",
       "\n",
       "    element.setAttribute('title', fullParamName);\n",
       "});\n",
       "</script></body>"
      ],
      "text/plain": [
       "GradientBoostingClassifier(learning_rate=0.9873529639097314, max_depth=4,\n",
       "                           n_estimators=269, random_state=42)"
      ]
     },
     "execution_count": 69,
     "metadata": {},
     "output_type": "execute_result"
    }
   ],
   "source": [
    "gradient_params = {'n_estimators': 269, 'max_depth': 4, 'learning_rate': 0.9873529639097314}\n",
    "\n",
    "model = GradientBoostingClassifier(**gradient_params, random_state=RANDOM_STATE)\n",
    "\n",
    "model.fit(X_train, y_train)"
   ]
  },
  {
   "cell_type": "code",
   "execution_count": 70,
   "id": "c941f30c",
   "metadata": {},
   "outputs": [],
   "source": [
    "import pickle\n",
    "\n",
    "with open('model.pkl', 'bw') as file:\n",
    "    pickle.dump(model, file=file)"
   ]
  }
 ],
 "metadata": {
  "kernelspec": {
   "display_name": ".venv (3.12.4)",
   "language": "python",
   "name": "python3"
  },
  "language_info": {
   "codemirror_mode": {
    "name": "ipython",
    "version": 3
   },
   "file_extension": ".py",
   "mimetype": "text/x-python",
   "name": "python",
   "nbconvert_exporter": "python",
   "pygments_lexer": "ipython3",
   "version": "3.12.4"
  }
 },
 "nbformat": 4,
 "nbformat_minor": 5
}
